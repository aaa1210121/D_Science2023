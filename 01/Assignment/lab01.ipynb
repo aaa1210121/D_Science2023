{
 "cells": [
  {
   "cell_type": "code",
   "execution_count": null,
   "metadata": {},
   "outputs": [],
   "source": [
    "# C-1\n",
    "def draw_grid(m, n):\n",
    "    for i in range(n - 1):\n",
    "        print(\"+ - - \" * n + \"+\")\n",
    "        for j in range(m):\n",
    "            print(\"/     \" * n + \"/\")\n",
    "    print(\"+ - - \" * n + \"+\")\n",
    "\n",
    "\n",
    "draw_grid(2, 3)"
   ]
  },
  {
   "cell_type": "code",
   "execution_count": null,
   "metadata": {},
   "outputs": [],
   "source": [
    "# C-1\n",
    "def draw_grid(m, n):\n",
    "    row = \"+---\" * n + \"+\\n\"\n",
    "    col = \"/   \" * n + \"/\\n\"\n",
    "    grid = \"\"\n",
    "    for i in range(m):\n",
    "        grid = grid + row\n",
    "        grid = grid + col * m\n",
    "    grid = grid + row\n",
    "    return grid\n",
    "\n",
    "\n",
    "result = draw_grid(2, 3)\n",
    "print(result)"
   ]
  },
  {
   "cell_type": "code",
   "execution_count": null,
   "metadata": {},
   "outputs": [],
   "source": [
    "# C-1\n",
    "def draw_grid(m, n):\n",
    "    row = \"+---\" * n + \"+\\n\"\n",
    "    col = \"/   \" * n + \"/\\n\"\n",
    "    return ((row + col * m) * (n - 1)) + row\n",
    "\n",
    "\n",
    "result = draw_grid(3, 4)\n",
    "print(result)"
   ]
  },
  {
   "cell_type": "code",
   "execution_count": null,
   "metadata": {},
   "outputs": [],
   "source": [
    "# C-2\n",
    "import math\n",
    "\n",
    "\n",
    "def estimate_pi():\n",
    "    k = 0\n",
    "    while 1:\n",
    "        up = math.factorial(4 * k) * (1103 + 26390 * k)\n",
    "        down = (math.factorial(k) ** 4) * (396 ** (4 * k))\n",
    "        terms = up / down\n",
    "        last_terms = 0\n",
    "        last_terms = last_terms + terms\n",
    "        if last_terms < 1e-15:\n",
    "            break\n",
    "        k = k + 1\n",
    "        front_factor = (2*math.sqrt(2)) / 9802\n",
    "        result = 1 / (front_factor * last_terms)\n",
    "        \n",
    "        return result\n",
    "\n",
    "\n",
    "print(estimate_pi())\n",
    "math.pi"
   ]
  },
  {
   "cell_type": "code",
   "execution_count": null,
   "metadata": {},
   "outputs": [],
   "source": [
    "#C-3\n",
    "def find_reverse_pair(word_list):\n",
    "    reverse_pair_list = []\n",
    "    #TODO\n",
    "    for word in word_list:\n",
    "        reverse_word = word[::-1]\n",
    "        reverse_pair_list.append((reverse_word))\n",
    "    return reverse_pair_list\n",
    "\n",
    "\n",
    "w = [\"123\",\"456\",\"abc\"]\n",
    "find_reverse_pair(w)"
   ]
  },
  {
   "cell_type": "code",
   "execution_count": null,
   "metadata": {},
   "outputs": [],
   "source": [
    "# C-4\n",
    "def reverse_lookup(d, v):\n",
    "    k = []\n",
    "    # TODO\n",
    "    for key in d:\n",
    "        if d.get(key) == v:\n",
    "            k.append(key)\n",
    "    return k\n",
    "\n",
    "\n",
    "dic = {\"color\": \"black\", \"height\": 30}\n",
    "result = reverse_lookup(dic, \"black\")\n",
    "print(result)"
   ]
  }
 ],
 "metadata": {
  "language_info": {
   "name": "python"
  },
  "orig_nbformat": 4
 },
 "nbformat": 4,
 "nbformat_minor": 2
}

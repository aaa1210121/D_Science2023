{
 "cells": [
  {
   "cell_type": "markdown",
   "metadata": {
    "id": "hUDitW0pnRP2"
   },
   "source": [
    "# **04 Data Analysis II**"
   ]
  },
  {
   "cell_type": "markdown",
   "metadata": {
    "id": "gAl2IN-AnRP4"
   },
   "source": [
    "## **<span style='color:#EA7500\t'>Series Object</span>**\n"
   ]
  },
  {
   "cell_type": "code",
   "execution_count": null,
   "metadata": {
    "ExecuteTime": {
     "end_time": "2022-07-26T00:45:01.617228Z",
     "start_time": "2022-07-26T00:45:01.613784Z"
    },
    "id": "qhMuI6C8nRP4"
   },
   "outputs": [],
   "source": [
    "import pandas as pd"
   ]
  },
  {
   "cell_type": "code",
   "execution_count": null,
   "metadata": {
    "ExecuteTime": {
     "end_time": "2022-07-22T04:44:47.503017Z",
     "start_time": "2022-07-22T04:44:47.496092Z"
    },
    "id": "QjHwDh0-nRP5"
   },
   "outputs": [],
   "source": [
    "data = pd.Series([0.25, 0.5, 0.75, 1.0],\n",
    "                 index=['a', 'b', 'c', 'd'])\n",
    "data['b']\n"
   ]
  },
  {
   "cell_type": "code",
   "execution_count": null,
   "metadata": {
    "ExecuteTime": {
     "end_time": "2022-07-22T04:44:47.537828Z",
     "start_time": "2022-07-22T04:44:47.504994Z"
    },
    "id": "zPu9fFYfnRP6"
   },
   "outputs": [],
   "source": [
    "data = pd.Series([0.25, 0.5, 0.75, 1.0],\n",
    "                 index=[2, 5, 3, 7])\n",
    "data[3]\n"
   ]
  },
  {
   "cell_type": "markdown",
   "metadata": {
    "id": "C84NBRycnRP6"
   },
   "source": [
    "## **<span style='color:#EA7500\t'>Series as Specialized Dictionary</span>**\n"
   ]
  },
  {
   "cell_type": "code",
   "execution_count": null,
   "metadata": {
    "id": "dX1NLlBknRP6"
   },
   "outputs": [],
   "source": [
    "population_dict = {'California':38332521,\n",
    "                   'Texas':16448193,\n",
    "                   'New York':19651127,\n",
    "                   'Florida':19552860,\n",
    "                   'Illinois':12882135}\n",
    "population = pd.Series(population_dict)\n",
    "\n",
    "population_dict['California']\n",
    "\n",
    "population['California']\n",
    "\n",
    "population.sort_values(ascending=True)"
   ]
  },
  {
   "cell_type": "code",
   "execution_count": null,
   "metadata": {
    "id": "ZvdC_L08nRP6"
   },
   "outputs": [],
   "source": [
    "area_dict = {'California':423967,\n",
    "             'Texas':695662,\n",
    "             'New York':141297,\n",
    "             'Florida':170312,\n",
    "             'Illinois':149995}\n",
    "\n",
    "area = pd.Series(area_dict)"
   ]
  },
  {
   "cell_type": "code",
   "execution_count": null,
   "metadata": {
    "id": "ReNkrG7PnRP7"
   },
   "outputs": [],
   "source": [
    "population['California']"
   ]
  },
  {
   "cell_type": "markdown",
   "metadata": {
    "id": "73D7ypTNnRP7"
   },
   "source": [
    "## **<span style='color:#EA7500\t'>Creating a DataFrame</span>**"
   ]
  },
  {
   "cell_type": "markdown",
   "metadata": {},
   "source": [
    "### You can build a DataFrame from a dictionary of series"
   ]
  },
  {
   "cell_type": "code",
   "execution_count": null,
   "metadata": {
    "id": "VRwT5lE8nRP7"
   },
   "outputs": [],
   "source": [
    "states = pd.DataFrame({'area':area, 'population':population})"
   ]
  },
  {
   "cell_type": "code",
   "execution_count": null,
   "metadata": {
    "id": "lZuCogNcnRP7"
   },
   "outputs": [],
   "source": [
    "states['area']"
   ]
  },
  {
   "cell_type": "markdown",
   "metadata": {
    "id": "bjJDKP9EnRP7"
   },
   "source": [
    "### You can build a DataFrame from  a List of Dictionaries"
   ]
  },
  {
   "cell_type": "code",
   "execution_count": null,
   "metadata": {
    "ExecuteTime": {
     "end_time": "2022-07-22T04:44:47.554829Z",
     "start_time": "2022-07-22T04:44:47.540428Z"
    },
    "id": "0GMsM9GGnRP7"
   },
   "outputs": [],
   "source": [
    "dict = {\n",
    "    \"col 1\": [1, 2, 3],\n",
    "    \"col 2\": [10, 20, 30],\n",
    "    \"col 3\": list('xyz'),\n",
    "    \"col 4\": ['a', 'b', 'c'],\n",
    "    \"col 5\": pd.Series(range(3))\n",
    "}\n",
    "df = pd.DataFrame(dict)\n",
    "print(df)"
   ]
  },
  {
   "cell_type": "markdown",
   "metadata": {
    "id": "0OSCD0ztnRP8"
   },
   "source": [
    "### Amazing Tricks!! Build DataFrame from the data in clipboard(剪貼簿) memory\n",
    "\n",
    "**Note: Error may occured when you aren't running locally.**\n",
    "https://pyperclip.readthedocs.io/en/latest/#not-implemented-error\n",
    "\n",
    "STEP 1: Please copy the following text\n"
   ]
  },
  {
   "cell_type": "code",
   "execution_count": null,
   "metadata": {},
   "outputs": [],
   "source": [
    "a   b     c       d\n",
    "0   1     inf     1/1/00\n",
    "2   71.38 N/A     5-Jan-13\n",
    "4   54.59 nan     7/24/18\n",
    "6   40.42 None    NaT"
   ]
  },
  {
   "cell_type": "markdown",
   "metadata": {},
   "source": [
    "STEP 2: Call read_clipboard method"
   ]
  },
  {
   "cell_type": "code",
   "execution_count": null,
   "metadata": {
    "id": "LF8t8UktaJvC"
   },
   "outputs": [],
   "source": [
    "pd.read_clipboard(na_values=[None], parse_dates=['d'])"
   ]
  },
  {
   "cell_type": "markdown",
   "metadata": {
    "id": "IUgu1xfanRP8"
   },
   "source": [
    "### You can build a DataFrame from CSV to DataFrame."
   ]
  },
  {
   "cell_type": "code",
   "execution_count": null,
   "metadata": {
    "ExecuteTime": {
     "end_time": "2022-07-22T04:45:59.153029Z",
     "start_time": "2022-07-22T04:45:59.117077Z"
    },
    "id": "MSfKPacqnRP8",
    "scrolled": true
   },
   "outputs": [],
   "source": [
    "df_titanic = pd.read_csv('titanic.csv')"
   ]
  },
  {
   "cell_type": "code",
   "execution_count": null,
   "metadata": {
    "id": "4Omqibo0nRP9",
    "scrolled": true
   },
   "outputs": [],
   "source": [
    "df_titanic.head(6)"
   ]
  },
  {
   "cell_type": "markdown",
   "metadata": {},
   "source": [
    "## **<span style='color:#EA7500\t'>Let's work on Titanic dataset</span>**"
   ]
  },
  {
   "cell_type": "code",
   "execution_count": null,
   "metadata": {
    "scrolled": true
   },
   "outputs": [],
   "source": [
    "df = pd.read_csv('titanic.csv')\n",
    "\n",
    "df.head(5)"
   ]
  },
  {
   "cell_type": "markdown",
   "metadata": {
    "id": "vH0zyjvGnRP9"
   },
   "source": [
    "\n",
    "## **<span style='color:#EA7500\t'>Reducing Memory Usage – 1 </span>**\n",
    "### Using the Pandas Category data type"
   ]
  },
  {
   "cell_type": "code",
   "execution_count": null,
   "metadata": {
    "id": "p5oicCdonRP9"
   },
   "outputs": [],
   "source": [
    "df_titanic.info(memory_usage=\"deep\")"
   ]
  },
  {
   "cell_type": "code",
   "execution_count": null,
   "metadata": {
    "id": "xRWOjg9anRP9"
   },
   "outputs": [],
   "source": [
    "dtypes = {\"Embarked\":\"category\"}\n",
    "cols = ['PassengerId', 'Name', 'Sex', 'Embarked']\n",
    "df = pd.read_csv('titanic.csv', dtype=dtypes, usecols=cols)"
   ]
  },
  {
   "cell_type": "code",
   "execution_count": null,
   "metadata": {
    "id": "onVwjXC_nRP9"
   },
   "outputs": [],
   "source": [
    "df.info(memory_usage=\"deep\")"
   ]
  },
  {
   "cell_type": "markdown",
   "metadata": {
    "id": "8N1nf9r0nRP9"
   },
   "source": [
    "\n",
    "## **<span style='color:#EA7500\t'>Reducing Memory Usage – 2 </span>**\n",
    "### Batch processing"
   ]
  },
  {
   "cell_type": "code",
   "execution_count": null,
   "metadata": {
    "id": "3Yhf-VLfnRP9",
    "scrolled": true
   },
   "outputs": [],
   "source": [
    "reader = pd.read_csv('titanic.csv', chunksize = 4)\n",
    "\n",
    "for _, df_partial in zip(range(2), reader):\n",
    "    display(df_partial)"
   ]
  },
  {
   "cell_type": "markdown",
   "metadata": {},
   "source": [
    "## **<span style='color:#EA7500\t'>Customizing DataFrame Display</span>**\n",
    "### (i.e. the max column width)"
   ]
  },
  {
   "cell_type": "code",
   "execution_count": null,
   "metadata": {},
   "outputs": [],
   "source": [
    "df = pd.read_csv('titanic.csv')\n",
    "print(\"Default display.max_colwidth: \",\n",
    "      pd.get_option(\"display.max_colwidth\"))\n",
    "\n",
    "df.head(5)"
   ]
  },
  {
   "cell_type": "code",
   "execution_count": null,
   "metadata": {},
   "outputs": [],
   "source": [
    "pd.set_option(\"display.max_colwidth\", 5)\n",
    "\n",
    "df.head(5)"
   ]
  },
  {
   "cell_type": "markdown",
   "metadata": {},
   "source": [
    "## **<span style='color:#EDA0A9\t'>Exercise (5 mins)</span>**"
   ]
  },
  {
   "cell_type": "code",
   "execution_count": null,
   "metadata": {},
   "outputs": [],
   "source": [
    "df = pd.read_csv('titanic.csv')\n",
    "\n",
    "df"
   ]
  },
  {
   "cell_type": "markdown",
   "metadata": {
    "id": "NOctjawHnRP9"
   },
   "source": [
    "## **<span style='color:#EA7500\t'>DataFrame Styling</span>**"
   ]
  },
  {
   "cell_type": "code",
   "execution_count": null,
   "metadata": {
    "id": "YEsN-D0gnRP9"
   },
   "outputs": [],
   "source": [
    "df_titanic = pd.read_csv('titanic.csv')\n",
    "df_titanic.style\\\n",
    "    .format('{:.1f}', subset='Fare')\\\n",
    "    .set_caption('Colorful Titanic Dataset')\\\n",
    "    .bar('Age', vmin=0)\\\n",
    "    .highlight_max('Survived')\\\n",
    "    .background_gradient('Greens', subset='Fare')\\\n",
    "    .highlight_null()"
   ]
  },
  {
   "cell_type": "markdown",
   "metadata": {},
   "source": [
    "## **<span style='color:#EDA0A9\t'>Exercise – Data Cleansing (5 mins)</span>**"
   ]
  },
  {
   "cell_type": "code",
   "execution_count": null,
   "metadata": {},
   "outputs": [],
   "source": [
    "# TODO"
   ]
  },
  {
   "cell_type": "markdown",
   "metadata": {
    "id": "WGnI5scqnRQB"
   },
   "source": [
    "## **<span style='color:#EA7500\t'>Drop (Useless) Data</span>**"
   ]
  },
  {
   "cell_type": "code",
   "execution_count": null,
   "metadata": {
    "id": "jdtDOctWnRQB"
   },
   "outputs": [],
   "source": [
    "df_sample = pd.read_csv('titanic.csv')\n",
    "columns = ['Name', 'Ticket']\n",
    "df_sample.drop(columns, axis=1)"
   ]
  },
  {
   "cell_type": "code",
   "execution_count": null,
   "metadata": {
    "id": "ShbHOtrqnRQB"
   },
   "outputs": [],
   "source": [
    "df_sample.drop(2)"
   ]
  },
  {
   "cell_type": "markdown",
   "metadata": {
    "id": "xYeA6W-XnRQB"
   },
   "source": [
    "## **<span style='color:#EA7500\t'>Data Selection</span>**"
   ]
  },
  {
   "cell_type": "markdown",
   "metadata": {},
   "source": [
    "### column indexing"
   ]
  },
  {
   "cell_type": "code",
   "execution_count": null,
   "metadata": {
    "id": "35fUoT4QnRQB"
   },
   "outputs": [],
   "source": [
    "df = pd.read_csv('titanic.csv')\n",
    "df.Pclass"
   ]
  },
  {
   "cell_type": "code",
   "execution_count": null,
   "metadata": {
    "id": "WkZ9t5eHnRQB"
   },
   "outputs": [],
   "source": [
    "df['Pclass']"
   ]
  },
  {
   "cell_type": "markdown",
   "metadata": {
    "id": "yRcbcQGLnRQC"
   },
   "source": [
    "### row indexing"
   ]
  },
  {
   "cell_type": "code",
   "execution_count": null,
   "metadata": {
    "id": "UuIEHGmDnRQC"
   },
   "outputs": [],
   "source": [
    "df_titanic[0:20]"
   ]
  },
  {
   "cell_type": "markdown",
   "metadata": {
    "id": "cS5lkhMvnRQC"
   },
   "source": [
    "\n",
    "## **<span style='color:#EA7500\t'>Data Selection with Indexer</span>**"
   ]
  },
  {
   "cell_type": "markdown",
   "metadata": {
    "id": "GJpIXGIyaJvH"
   },
   "source": [
    "### fusion selecting"
   ]
  },
  {
   "cell_type": "code",
   "execution_count": null,
   "metadata": {
    "id": "G4pdTEZQnRQC"
   },
   "outputs": [],
   "source": [
    "df_titanic.loc[0:4, 'PassengerId':'Age']"
   ]
  },
  {
   "cell_type": "markdown",
   "metadata": {
    "id": "v13uzP24aJvH"
   },
   "source": [
    "### index selecting"
   ]
  },
  {
   "cell_type": "code",
   "execution_count": null,
   "metadata": {
    "id": "PuwTTb4anRQC"
   },
   "outputs": [],
   "source": [
    "df_titanic.iloc[0:5, 0:5]"
   ]
  },
  {
   "cell_type": "markdown",
   "metadata": {
    "id": "LaP0OL-JaJvH"
   },
   "source": [
    "### inverse"
   ]
  },
  {
   "cell_type": "code",
   "execution_count": null,
   "metadata": {
    "id": "7EFtUjlnnRQC"
   },
   "outputs": [],
   "source": [
    "df_titanic.iloc[::-1]"
   ]
  },
  {
   "cell_type": "markdown",
   "metadata": {
    "id": "LupgAow9aJvI"
   },
   "source": [
    "### with conditions"
   ]
  },
  {
   "cell_type": "code",
   "execution_count": null,
   "metadata": {
    "id": "VHeZ9pNMnRQC"
   },
   "outputs": [],
   "source": [
    "df_titanic.loc[df_titanic.Survived== 1,:]"
   ]
  },
  {
   "cell_type": "markdown",
   "metadata": {
    "id": "u80AqXipnRQC"
   },
   "source": [
    "## **<span style='color:#EA7500\t'>Data Selection – String and Num</span>**"
   ]
  },
  {
   "cell_type": "markdown",
   "metadata": {
    "id": "CMXzSvUKaJvI"
   },
   "source": [
    "### Masking"
   ]
  },
  {
   "cell_type": "code",
   "execution_count": null,
   "metadata": {
    "id": "FDFH9nX6nRQC"
   },
   "outputs": [],
   "source": [
    "female_and_age_under_20=(df_sample.Sex=='female')&(df_sample.Age<20)\n",
    "df_sample[female_and_age_under_20]"
   ]
  },
  {
   "cell_type": "markdown",
   "metadata": {
    "id": "76hfA70rnRQC"
   },
   "source": [
    "### Query"
   ]
  },
  {
   "cell_type": "code",
   "execution_count": null,
   "metadata": {
    "id": "piFaL40znRQC"
   },
   "outputs": [],
   "source": [
    "age = 70 # variable\n",
    "df_titanic.query(\"Age>@age & Sex == 'male'\") # age to get \"age\" variable"
   ]
  },
  {
   "cell_type": "markdown",
   "metadata": {
    "id": "4as2zj5znRQC"
   },
   "source": [
    "## **<span style='color:#EA7500\t'>Data Selection – String</span>**"
   ]
  },
  {
   "cell_type": "code",
   "execution_count": null,
   "metadata": {
    "id": "8VeQQ3pcnRQC"
   },
   "outputs": [],
   "source": [
    "df_titanic[df_titanic.Name.str.contains(\"Mr\\.\")]"
   ]
  },
  {
   "cell_type": "code",
   "execution_count": null,
   "metadata": {},
   "outputs": [],
   "source": [
    "tickets = [\"SC/Paris 2123\", \"PC 17475\"]\n",
    "df[df.Ticket.isin(tickets)]"
   ]
  },
  {
   "cell_type": "code",
   "execution_count": null,
   "metadata": {
    "id": "4CczTpTznRQC"
   },
   "outputs": [],
   "source": [
    "top_k = 3\n",
    "top_tickets = df_titanic.Ticket.value_counts()[:top_k]\n",
    "top_tickets.index"
   ]
  },
  {
   "cell_type": "markdown",
   "metadata": {
    "id": "RGmubXtZaJvJ"
   },
   "source": [
    "## **<span style='color:#EDA0A9\t'>Exercise</span>**\n",
    "### Q: Show the passenger info of the most frequently purchased class of tickets\n",
    "Hint: Show the info of the passengers with the highest 'Pclass'"
   ]
  },
  {
   "cell_type": "code",
   "execution_count": null,
   "metadata": {
    "id": "Os06O-NraJvJ",
    "outputId": "5b68f591-fa0b-4e30-c744-ace57e3339b5",
    "scrolled": false
   },
   "outputs": [],
   "source": [
    "# TODO"
   ]
  },
  {
   "cell_type": "markdown",
   "metadata": {
    "id": "I90F0jYJnRQD"
   },
   "source": [
    "## **<span style='color:#EA7500\t'>GroupBy: Split, Apply, Combine</span>**\n"
   ]
  },
  {
   "cell_type": "code",
   "execution_count": null,
   "metadata": {
    "id": "DO3sPselnRQD"
   },
   "outputs": [],
   "source": [
    "df_titanic.groupby(\"Pclass\").Age.mean()"
   ]
  },
  {
   "cell_type": "code",
   "execution_count": null,
   "metadata": {
    "id": "x0YoOg7KnRQD"
   },
   "outputs": [],
   "source": [
    "df_titanic.groupby(['Sex','Survived']).Sex.count()"
   ]
  },
  {
   "cell_type": "markdown",
   "metadata": {
    "id": "XnnWfco8aJvJ"
   },
   "source": [
    "## **<span style='color:#EDA0A9\t'>Exercise</span>**\n",
    "### Q: Does ticket class (pclass) related to the survival rate in that accident?\n",
    "Hint: Calculate and compare the survival rates for each Pclass"
   ]
  },
  {
   "cell_type": "code",
   "execution_count": null,
   "metadata": {
    "id": "xOJOVw8taJvK",
    "outputId": "bf62af02-6b11-4120-8427-11fc3bbc24b1"
   },
   "outputs": [],
   "source": [
    "import matplotlib.pyplot as plt\n",
    "# TODO"
   ]
  }
 ],
 "metadata": {
  "colab": {
   "provenance": []
  },
  "kernelspec": {
   "display_name": "Python 3 (ipykernel)",
   "language": "python",
   "name": "python3"
  },
  "language_info": {
   "codemirror_mode": {
    "name": "ipython",
    "version": 3
   },
   "file_extension": ".py",
   "mimetype": "text/x-python",
   "name": "python",
   "nbconvert_exporter": "python",
   "pygments_lexer": "ipython3",
   "version": "3.11.5"
  },
  "toc": {
   "base_numbering": 1,
   "nav_menu": {},
   "number_sections": false,
   "sideBar": true,
   "skip_h1_title": false,
   "title_cell": "Table of Contents",
   "title_sidebar": "Contents",
   "toc_cell": false,
   "toc_position": {},
   "toc_section_display": true,
   "toc_window_display": false
  },
  "vscode": {
   "interpreter": {
    "hash": "98522e72c6a2ba1a00fbc60002850c9078a7b570e57d7ae1b2a726337bf19e1f"
   }
  }
 },
 "nbformat": 4,
 "nbformat_minor": 1
}

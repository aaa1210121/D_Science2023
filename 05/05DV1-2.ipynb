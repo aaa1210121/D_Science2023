{
 "cells": [
  {
   "cell_type": "markdown",
   "id": "8341043a",
   "metadata": {},
   "source": [
    "# **05 Data Visualization I**"
   ]
  },
  {
   "cell_type": "code",
   "execution_count": null,
   "id": "3cc80e9d",
   "metadata": {},
   "outputs": [],
   "source": [
    "import matplotlib.pyplot as plt\n",
    "import matplotlib.cm as cm\n",
    "import numpy as np\n",
    "import pandas as pd"
   ]
  },
  {
   "cell_type": "markdown",
   "id": "2d108695",
   "metadata": {},
   "source": [
    "## **<span style='color:#EA7500\t'>Simple Line Plot</span>**"
   ]
  },
  {
   "cell_type": "code",
   "execution_count": null,
   "id": "79f5b83f",
   "metadata": {},
   "outputs": [],
   "source": [
    "x = np.linspace(0, 10, 1000)\n",
    "plt.plot(x, np.sin(x))\n",
    "plt.show()"
   ]
  },
  {
   "cell_type": "code",
   "execution_count": null,
   "id": "d093efae",
   "metadata": {},
   "outputs": [],
   "source": [
    "x = np.linspace(0, 10, 10)\n",
    "plt.plot(x, np.sin(x))\n",
    "plt.show()"
   ]
  },
  {
   "cell_type": "code",
   "execution_count": null,
   "id": "e441c529",
   "metadata": {},
   "outputs": [],
   "source": [
    "x = np.linspace(0, 10, 1000)\n",
    "plt.plot(x, np.sin(x))\n",
    "plt.plot(x, np.cos(x))\n",
    "plt.show()"
   ]
  },
  {
   "cell_type": "markdown",
   "id": "c279fa79",
   "metadata": {},
   "source": [
    "## **<span style='color:#EA7500\t'>Colors, Styles, and Markers</span>**"
   ]
  },
  {
   "cell_type": "markdown",
   "id": "dad62def",
   "metadata": {},
   "source": [
    "- ### Line Color "
   ]
  },
  {
   "cell_type": "code",
   "execution_count": null,
   "id": "6667411a",
   "metadata": {},
   "outputs": [],
   "source": [
    "plt.plot(x, np.sin(x), color = 'blue')\n",
    "plt.plot(x, np.sin(x-1), color = 'g')\n",
    "plt.plot(x, np.sin(x-2), color = '0.75')\n",
    "plt.plot(x, np.sin(x-3), color = '#FFDD44')\n",
    "plt.plot(x, np.sin(x-4), color = (1.0, 0.2, 0.3))\n",
    "plt.plot(x, np.sin(x-5), color = 'chartreuse')\n",
    "\n",
    "plt.show()"
   ]
  },
  {
   "cell_type": "markdown",
   "id": "0429d2f5",
   "metadata": {},
   "source": [
    "- ### Line Style "
   ]
  },
  {
   "cell_type": "code",
   "execution_count": null,
   "id": "e06aeaac",
   "metadata": {},
   "outputs": [],
   "source": [
    "plt.plot(x, x+1, linestyle='solid')\n",
    "plt.plot(x, x+2, linestyle='dashed')\n",
    "plt.plot(x, x+3, linestyle='dashdot')\n",
    "plt.plot(x, x+4, linestyle='dotted')\n",
    "\n",
    "plt.plot(x, x+5, linestyle='-')  # solid\n",
    "plt.plot(x, x+6, linestyle='--')  # dashed\n",
    "plt.plot(x, x+7, linestyle='-.')  # dashdot\n",
    "plt.plot(x, x+8, linestyle=':')  # dotted\n",
    "\n",
    "plt.show()"
   ]
  },
  {
   "cell_type": "markdown",
   "id": "939303bf",
   "metadata": {},
   "source": [
    "- ### Set Color and Styles Together"
   ]
  },
  {
   "cell_type": "code",
   "execution_count": null,
   "id": "ba2215d7",
   "metadata": {},
   "outputs": [],
   "source": [
    "plt.plot(x, x+1, '-k')\n",
    "plt.plot(x, x+2, '--g')\n",
    "plt.plot(x, x+3, '-.b')\n",
    "plt.plot(x, x+4, ':r')\n",
    "\n",
    "plt.show()"
   ]
  },
  {
   "cell_type": "markdown",
   "id": "3abfb81c",
   "metadata": {},
   "source": [
    "- ### Marker"
   ]
  },
  {
   "cell_type": "code",
   "execution_count": null,
   "id": "2ece628f",
   "metadata": {},
   "outputs": [],
   "source": [
    "x = np.linspace(0, 10, 30)\n",
    "y = np.sin(x)\n",
    "z = np.cos(x)\n",
    "plt.plot(x, y, 'o', color = 'black')\n",
    "plt.plot(x, z, '--*', color = 'c')"
   ]
  },
  {
   "cell_type": "markdown",
   "id": "780a33dd",
   "metadata": {},
   "source": [
    "## **<span style='color:#EDA0A9\t'>Quiz</span>**\n",
    "#### What will `plt.plot(x, y, '-ok' )` shows?"
   ]
  },
  {
   "cell_type": "code",
   "execution_count": null,
   "id": "1fc34882",
   "metadata": {},
   "outputs": [],
   "source": [
    "plt.plot(x, y, '-ok')"
   ]
  },
  {
   "cell_type": "markdown",
   "id": "9e96ce43",
   "metadata": {},
   "source": [
    "## **<span style='color:#EA7500\t'>Axes Limits</span>**"
   ]
  },
  {
   "cell_type": "code",
   "execution_count": null,
   "id": "92be716b",
   "metadata": {},
   "outputs": [],
   "source": [
    "x = np.linspace(0, 10, 100)\n",
    "plt.plot(x, np.sin(x))\n",
    "\n",
    "plt.xlim(-1, 11)\n",
    "plt.ylim(-1.5, 1.5)\n",
    "\n",
    "plt.axis([-1, 11, -1.5, 1.5])\n",
    "\n",
    "plt.grid()"
   ]
  },
  {
   "cell_type": "markdown",
   "id": "26448974",
   "metadata": {},
   "source": [
    "## **<span style='color:#EA7500\t'>Axis Equal and Tight</span>**"
   ]
  },
  {
   "cell_type": "code",
   "execution_count": null,
   "id": "1656ca12",
   "metadata": {},
   "outputs": [],
   "source": [
    "plt .plot(x, np.sin(x))\n",
    "\n",
    "plt.axis(\"equal\")\n",
    "\n",
    "plt.grid()"
   ]
  },
  {
   "cell_type": "code",
   "execution_count": null,
   "id": "89ebcc6c",
   "metadata": {},
   "outputs": [],
   "source": [
    "plt .plot(x, np.sin(x))\n",
    "\n",
    "plt.axis(\"tight\")\n",
    "\n",
    "plt.grid()"
   ]
  },
  {
   "cell_type": "markdown",
   "id": "b757a338",
   "metadata": {},
   "source": [
    "\n",
    "## **<span style='color:#EA7500\t'>Title and Axis Lables</span>**"
   ]
  },
  {
   "cell_type": "code",
   "execution_count": null,
   "id": "a79cb8ba",
   "metadata": {},
   "outputs": [],
   "source": [
    "plt.plot(x, np.sin(x))\n",
    "\n",
    "plt.title(\"A Sine Curve\")\n",
    "plt.xlabel(\"x\")\n",
    "plt.ylabel(\"sin(x)\")\n",
    "\n",
    "plt.show()"
   ]
  },
  {
   "cell_type": "markdown",
   "id": "f0649f4e",
   "metadata": {},
   "source": [
    "## **<span style='color:#EA7500\t'>Legend</span>**"
   ]
  },
  {
   "cell_type": "code",
   "execution_count": null,
   "id": "29b71603",
   "metadata": {},
   "outputs": [],
   "source": [
    "plt.plot(x, np.sin(x), \"-g\", label=\"sin(x)\")\n",
    "plt.plot(x, np.cos(x), \":b\", label=\"cos(x)\")\n",
    "\n",
    "plt.legend()\n",
    "plt.show()"
   ]
  },
  {
   "cell_type": "markdown",
   "id": "b236cf94",
   "metadata": {},
   "source": [
    "## **<span style='color:#EDA0A9\t'>Exercise – The Sales Dataset (15 mins)</span>**\n",
    "#### Get total profit of all months in `sales_data.csv` and show a line plot. Try using the same style properties as the following figure.\n"
   ]
  },
  {
   "cell_type": "code",
   "execution_count": null,
   "id": "37216797",
   "metadata": {},
   "outputs": [],
   "source": [
    "import pandas as pd\n",
    "\n",
    "data = pd.read_csv('sales_data.csv')\n",
    "data[:5]"
   ]
  },
  {
   "cell_type": "code",
   "execution_count": null,
   "id": "9e5a266e",
   "metadata": {},
   "outputs": [],
   "source": [
    "x = np.array(list(data[\"month_number\"]))\n",
    "y = np.array(list(data[\"total_profit\"]))"
   ]
  },
  {
   "cell_type": "code",
   "execution_count": null,
   "id": "ed4117ec",
   "metadata": {},
   "outputs": [],
   "source": [
    "#TODO: Adjust color, style, and markers\n",
    "plt.plot(x, y, '--ok', linewidth=3, markersize=8, label=\"Profit data of last year\")\n",
    "\n",
    "#TODO: Add loc and adjust font style\n",
    "plt.title(\"Company Salse Data of Last Year\")\n",
    "plt.legend()\n",
    "\n",
    "#TODO: set axes limit and ticks"
   ]
  },
  {
   "cell_type": "markdown",
   "id": "761564a0",
   "metadata": {},
   "source": [
    "\n",
    "## **<span style='color:#EA7500\t'>Ticks</span>**"
   ]
  },
  {
   "cell_type": "code",
   "execution_count": null,
   "id": "45953377",
   "metadata": {
    "scrolled": true
   },
   "outputs": [],
   "source": [
    "x = [1,2,3]\n",
    "y = [1,8,5]\n",
    "\n",
    "labels = ['Frogs','Hogs','Bogs']\n",
    "plt.plot(x,y)\n",
    "plt.xticks(x, labels, rotation='vertical')"
   ]
  },
  {
   "cell_type": "markdown",
   "id": "65aed153",
   "metadata": {},
   "source": [
    "## **<span style='color:#EA7500\t'>Text and Annotation</span>**"
   ]
  },
  {
   "cell_type": "code",
   "execution_count": null,
   "id": "b0caafe2",
   "metadata": {},
   "outputs": [],
   "source": [
    "font = {'family':'serif', \n",
    "        'color': 'darkred',\n",
    "        'weight': 'normal',\n",
    "        'size': 16}\n",
    "\n",
    "x = np.linspace(0.0, 5.0, 100)\n",
    "y = np.cos(2*np.pi*x)*np.exp(-x)\n",
    "plt.plot(x, y, 'k')\n",
    "plt.text(2, 0.65, r'$\\cos(2 \\pi t) \\exp(-t)$',fontdict = font)"
   ]
  },
  {
   "cell_type": "markdown",
   "id": "31d2aaee",
   "metadata": {},
   "source": [
    "## **<span style='color:#EA7500\t'>Subplots</span>**"
   ]
  },
  {
   "cell_type": "code",
   "execution_count": null,
   "id": "e0e823c7",
   "metadata": {},
   "outputs": [],
   "source": [
    "for i in range(1, 7):\n",
    "    plt.subplot(3, 2, i)\n",
    "    plt.text(0.5, 0.5, str((3, 2, i)),fontsize=18, ha='center')\n",
    "plt.subplots_adjust(left=0.125, bottom=0.1, right=0.9, top=0.9, wspace=0.2, hspace=0.35)"
   ]
  },
  {
   "cell_type": "markdown",
   "id": "ad96a1db",
   "metadata": {},
   "source": [
    "## **<span style='color:#EA7500\t'>Complicated Arrangements</span>**"
   ]
  },
  {
   "cell_type": "code",
   "execution_count": null,
   "id": "906fa233",
   "metadata": {},
   "outputs": [],
   "source": [
    "grid = plt.GridSpec(3, 2, wspace=0.4, hspace=0.3)\n",
    "plt.subplot(grid[0, 0])\n",
    "plt.subplot(grid[1:, 0])\n",
    "plt.subplot(grid[:2, 1])\n",
    "plt.subplot(grid[2, 1])"
   ]
  },
  {
   "cell_type": "code",
   "execution_count": null,
   "id": "310fb00f",
   "metadata": {},
   "outputs": [],
   "source": []
  }
 ],
 "metadata": {
  "kernelspec": {
   "display_name": "Python 3 (ipykernel)",
   "language": "python",
   "name": "python3"
  },
  "language_info": {
   "codemirror_mode": {
    "name": "ipython",
    "version": 3
   },
   "file_extension": ".py",
   "mimetype": "text/x-python",
   "name": "python",
   "nbconvert_exporter": "python",
   "pygments_lexer": "ipython3",
   "version": "3.11.5"
  },
  "varInspector": {
   "cols": {
    "lenName": 16,
    "lenType": 16,
    "lenVar": 40
   },
   "kernels_config": {
    "python": {
     "delete_cmd_postfix": "",
     "delete_cmd_prefix": "del ",
     "library": "var_list.py",
     "varRefreshCmd": "print(var_dic_list())"
    },
    "r": {
     "delete_cmd_postfix": ") ",
     "delete_cmd_prefix": "rm(",
     "library": "var_list.r",
     "varRefreshCmd": "cat(var_dic_list()) "
    }
   },
   "types_to_exclude": [
    "module",
    "function",
    "builtin_function_or_method",
    "instance",
    "_Feature"
   ],
   "window_display": false
  },
  "vscode": {
   "interpreter": {
    "hash": "98522e72c6a2ba1a00fbc60002850c9078a7b570e57d7ae1b2a726337bf19e1f"
   }
  }
 },
 "nbformat": 4,
 "nbformat_minor": 5
}

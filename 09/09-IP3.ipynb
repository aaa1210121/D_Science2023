{
 "cells": [
  {
   "cell_type": "markdown",
   "metadata": {},
   "source": [
    "# **09 Image Processing III**"
   ]
  },
  {
   "cell_type": "markdown",
   "metadata": {},
   "source": [
    "\n",
    "\n",
    "\n",
    "\n",
    "\n",
    "\n",
    "## 1.Spatial Filtering\n",
    "## **<span style='color:#EA7500'>Sobel Filter</span>**"
   ]
  },
  {
   "cell_type": "code",
   "execution_count": null,
   "metadata": {},
   "outputs": [],
   "source": [
    "from skimage import io\n",
    "import numpy as np\n",
    "import matplotlib.pyplot as plt\n",
    "from skimage import transform\n",
    "from skimage import filters"
   ]
  },
  {
   "cell_type": "code",
   "execution_count": null,
   "metadata": {},
   "outputs": [],
   "source": [
    "from skimage import filters\n",
    "\n",
    "building = io.imread('building.jpg', as_gray=True)\n",
    "\n",
    "building_sobel_x = filters.sobel_v(building)\n",
    "building_sobel_y = filters.sobel_h(building)"
   ]
  },
  {
   "cell_type": "code",
   "execution_count": null,
   "metadata": {},
   "outputs": [],
   "source": [
    "plt.figure(figsize=(15, 8))\n",
    "\n",
    "plt.subplot(1, 3, 1)\n",
    "plt.title('Original image')\n",
    "plt.imshow(building, cmap='gray')\n",
    "plt.subplot(1, 3, 2)\n",
    "plt.title('Sobel x')\n",
    "plt.imshow(building_sobel_x, cmap='gray', vmin=-0.1, vmax=0.1)\n",
    "plt.subplot(1, 3, 3)\n",
    "plt.title('Sobel y')\n",
    "plt.imshow(building_sobel_y, cmap='gray', vmin=-0.1, vmax=0.1)\n",
    "plt.show()"
   ]
  },
  {
   "cell_type": "code",
   "execution_count": null,
   "metadata": {},
   "outputs": [],
   "source": [
    "binary = io.imread('binary-objects.png', as_gray=True)\n",
    "\n",
    "binary_sobel_x = filters.sobel_v(binary)\n",
    "binary_sobel_y = filters.sobel_h(binary)\n",
    "\n",
    "plt.figure(figsize=(15, 8))\n",
    "\n",
    "plt.subplot(1, 3, 1)\n",
    "plt.title('Original image')\n",
    "plt.imshow(binary, cmap='gray')\n",
    "plt.subplot(1, 3, 2)\n",
    "plt.title('Sobel x')\n",
    "plt.imshow(binary_sobel_x, cmap='gray', vmin=-0.1, vmax=0.1)\n",
    "plt.subplot(1, 3, 3)\n",
    "plt.title('Sobel y')\n",
    "plt.imshow(binary_sobel_y, cmap='gray', vmin=-0.1, vmax=0.1)\n",
    "plt.show()"
   ]
  },
  {
   "cell_type": "markdown",
   "metadata": {},
   "source": [
    "\n",
    "## **<span style='color:#EA7500\t'>Laplacian Filter</span>**"
   ]
  },
  {
   "cell_type": "code",
   "execution_count": null,
   "metadata": {},
   "outputs": [],
   "source": [
    "building_laplacian = filters.laplace(building)"
   ]
  },
  {
   "cell_type": "code",
   "execution_count": null,
   "metadata": {},
   "outputs": [],
   "source": [
    "plt.figure(figsize=(10, 8))\n",
    "\n",
    "plt.subplot(1, 2, 1)\n",
    "plt.title('Original image')\n",
    "plt.imshow(building, cmap='gray')\n",
    "plt.subplot(1, 2, 2)\n",
    "plt.title('Laplacian')\n",
    "plt.imshow(building_laplacian, cmap='gray', vmin=-0.1, vmax=0.1)\n",
    "plt.show()"
   ]
  },
  {
   "cell_type": "markdown",
   "metadata": {},
   "source": [
    "## **<span style='color:#EA7500\t'>Edge Enhancement</span>**"
   ]
  },
  {
   "cell_type": "code",
   "execution_count": null,
   "metadata": {},
   "outputs": [],
   "source": [
    "building_enhanced = building + building_laplacian *2\n",
    "\n",
    "plt.figure(figsize=(10, 8))\n",
    "\n",
    "plt.subplot(1, 2, 1)\n",
    "plt.title('Original image')\n",
    "plt.imshow(building, cmap='gray')\n",
    "plt.subplot(1, 2, 2)\n",
    "plt.title('Enhanced image')\n",
    "plt.imshow(building_enhanced, cmap='gray', vmax=1.0, vmin=0)\n",
    "plt.show()"
   ]
  },
  {
   "cell_type": "markdown",
   "metadata": {},
   "source": [
    "## 2. Morphological Image Processing"
   ]
  },
  {
   "cell_type": "markdown",
   "metadata": {},
   "source": [
    "\n",
    "## <span style='color:#EA7500\t'>Structuring Elements</span>"
   ]
  },
  {
   "cell_type": "code",
   "execution_count": null,
   "metadata": {},
   "outputs": [],
   "source": [
    "from skimage.morphology import disk, square, rectangle, diamond\n",
    "\n",
    "selem = disk(radius=2)\n",
    "\n",
    "## Try diamond too.\n",
    "# selem = diamond(1)"
   ]
  },
  {
   "cell_type": "code",
   "execution_count": null,
   "metadata": {},
   "outputs": [],
   "source": [
    "fig = plt.figure(figsize=(5, 5))\n",
    "\n",
    "plt.imshow(selem, cmap=\"Paired\", vmin=0, vmax=12)\n",
    "for i in range(selem.shape[0]):\n",
    "    for j in range(selem.shape[1]):\n",
    "        plt.text(j, i, selem[i, j], ha=\"center\", va=\"center\", color=\"w\")\n",
    "plt.axis('off')\n",
    "plt.show()"
   ]
  },
  {
   "cell_type": "markdown",
   "metadata": {},
   "source": [
    "## **<span style='color:#EDA0A9\t'>Quiz 1</span>**"
   ]
  },
  {
   "cell_type": "code",
   "execution_count": null,
   "metadata": {},
   "outputs": [],
   "source": [
    "from skimage import color, morphology\n",
    "\n",
    "# TO DO\n"
   ]
  },
  {
   "cell_type": "markdown",
   "metadata": {},
   "source": [
    "## <span style='color:#EA7500\t'>skimage.morphology</span>"
   ]
  },
  {
   "cell_type": "code",
   "execution_count": null,
   "metadata": {},
   "outputs": [],
   "source": [
    "from skimage import morphology\n",
    "\n",
    "mm = io.imread('mmbw.jpg', as_gray=True)\n",
    "mm_erosion = morphology.binary_erosion(mm, disk(3)) # change the disk value\n",
    "# mm_dilation = morphology.binary_dilation(mm, disk(3))\n",
    "\n",
    "plt.figure(figsize=(12, 15))\n",
    "\n",
    "plt.subplot(1, 2, 1)\n",
    "plt.title('Original image')\n",
    "plt.imshow(mm, cmap='gray')\n",
    "plt.subplot(1, 2, 2)\n",
    "plt.title('Erosion')\n",
    "plt.imshow(mm_erosion, cmap='gray')\n",
    "plt.show()"
   ]
  },
  {
   "cell_type": "markdown",
   "metadata": {},
   "source": [
    "## **<span style='color:#EDA0A9\t'>Exercise 1</span>**\n",
    "1. Eliminate the noise in by using the erosion operation (A⊖B)? <br>\n",
    "2. What do you observe on the fingerprint? <br>\n",
    "3. Try performing a dilation operation after the erosion ((A⊖B)⊕B)"
   ]
  },
  {
   "cell_type": "code",
   "execution_count": null,
   "metadata": {},
   "outputs": [],
   "source": [
    "fingerprint = io.imread('fingerprint_noisy.png')\n",
    "\n",
    "# TODO\n",
    "\n",
    "fingerprint_denoised = ...\n",
    "fingerprint_denoised = ..."
   ]
  },
  {
   "cell_type": "code",
   "execution_count": null,
   "metadata": {},
   "outputs": [],
   "source": [
    "plt.figure(figsize=(15, 15))\n",
    "\n",
    "plt.subplot(1, 2, 1)\n",
    "plt.title('Noisy image')\n",
    "plt.imshow(fingerprint, cmap='gray')\n",
    "plt.subplot(1, 2, 2)\n",
    "plt.title('Denoised image')\n",
    "plt.imshow(fingerprint_denoised, cmap='gray')\n",
    "plt.show()"
   ]
  },
  {
   "cell_type": "markdown",
   "metadata": {},
   "source": [
    "## <span style='color:#EA7500\t'>Compound Operations</span>\n"
   ]
  },
  {
   "cell_type": "code",
   "execution_count": null,
   "metadata": {},
   "outputs": [],
   "source": [
    "mask = io.imread('wirebond-mask.png', as_gray=True)\n",
    "mask_opening = morphology.binary_opening(mask, disk(5))\n",
    "\n",
    "plt.figure(figsize=(12, 15))\n",
    "\n",
    "plt.subplot(1, 2, 1)\n",
    "plt.title('Original image')\n",
    "plt.imshow(mask, cmap='gray')\n",
    "plt.subplot(1, 2, 2)\n",
    "plt.title('Opening')\n",
    "plt.imshow(mask_opening, cmap='gray')\n",
    "plt.show()"
   ]
  },
  {
   "cell_type": "code",
   "execution_count": null,
   "metadata": {},
   "outputs": [],
   "source": [
    "mask_opening = morphology.binary_closing(mask, disk(5))\n",
    "\n",
    "\n",
    "plt.figure(figsize=(12, 15))\n",
    "\n",
    "plt.subplot(1, 2, 1)\n",
    "plt.title('Original image')\n",
    "plt.imshow(mask, cmap='gray')\n",
    "plt.subplot(1, 2, 2)\n",
    "plt.title('Closing')\n",
    "plt.imshow(mask_opening, cmap='gray')\n",
    "plt.show()"
   ]
  }
 ],
 "metadata": {
  "kernelspec": {
   "display_name": "Python 3 (ipykernel)",
   "language": "python",
   "name": "python3"
  },
  "language_info": {
   "codemirror_mode": {
    "name": "ipython",
    "version": 3
   },
   "file_extension": ".py",
   "mimetype": "text/x-python",
   "name": "python",
   "nbconvert_exporter": "python",
   "pygments_lexer": "ipython3",
   "version": "3.11.5"
  },
  "varInspector": {
   "cols": {
    "lenName": 16,
    "lenType": 16,
    "lenVar": 40
   },
   "kernels_config": {
    "python": {
     "delete_cmd_postfix": "",
     "delete_cmd_prefix": "del ",
     "library": "var_list.py",
     "varRefreshCmd": "print(var_dic_list())"
    },
    "r": {
     "delete_cmd_postfix": ") ",
     "delete_cmd_prefix": "rm(",
     "library": "var_list.r",
     "varRefreshCmd": "cat(var_dic_list()) "
    }
   },
   "types_to_exclude": [
    "module",
    "function",
    "builtin_function_or_method",
    "instance",
    "_Feature"
   ],
   "window_display": false
  }
 },
 "nbformat": 4,
 "nbformat_minor": 4
}

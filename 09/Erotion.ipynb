{
 "cells": [
  {
   "cell_type": "markdown",
   "metadata": {},
   "source": [
    "## 2. Morphological Image Processing"
   ]
  },
  {
   "cell_type": "markdown",
   "metadata": {},
   "source": [
    "### Util functions"
   ]
  },
  {
   "cell_type": "code",
   "execution_count": 9,
   "metadata": {},
   "outputs": [],
   "source": [
    "from skimage import color, morphology ,io\n",
    "from scipy import ndimage as ndi\n",
    "from matplotlib import patches\n",
    "import numpy as np\n",
    "import matplotlib.pyplot as plt\n",
    "\n",
    "def filter_demo(image, operation, vmax=1):\n",
    "    iter_kernel_and_subimage = iter_kernel(image)\n",
    "    structure = morphology.disk(1)\n",
    "    dilation = morphology.binary_dilation(image, structure)\n",
    "    erosion = morphology.binary_erosion(image, structure)\n",
    "    \n",
    "    image_cache = []\n",
    "\n",
    "    def filter_step(i_step):\n",
    "        while i_step >= len(image_cache):\n",
    "            filtered = np.zeros(shape=image.shape) if i_step == 0 else image_cache[-1][-1][-1]\n",
    "            filtered = filtered.copy()\n",
    "\n",
    "            (i, j), mask = next(iter_kernel_and_subimage)\n",
    "            filter_overlay = color.label2rgb(mask, image, bg_label=0,\n",
    "                                             colors=('red', 'yellow'))\n",
    "            if operation == 'dilation':\n",
    "                filtered[i, j] = dilation[i, j]\n",
    "            elif operation == 'erosion':\n",
    "                filtered[i, j] = erosion[i, j]             \n",
    "\n",
    "            count = np.sum(mask.astype(np.bool_) & image.astype(np.bool_))\n",
    "            if count == np.sum(mask.astype(np.bool_)): # fit\n",
    "                state = 1\n",
    "            elif count == 0: # miss\n",
    "                state = 3\n",
    "            else: # hit\n",
    "                state = 2\n",
    "                \n",
    "            image_cache.append(((i, j), (state), (filter_overlay, filtered)))\n",
    "\n",
    "        (i, j), state, images = image_cache[i_step]\n",
    "        fig, axes = plt.subplots(1, len(images), figsize=(15, 10))\n",
    "        \n",
    "        if state == 1:\n",
    "            plt.title('Fit!!', fontsize=25)\n",
    "        elif state == 2:\n",
    "            plt.title('Hit!!', fontsize=25)\n",
    "        else:\n",
    "            plt.title('Miss!!', fontsize=25)\n",
    "        \n",
    "        for ax, imc in zip(axes, images):\n",
    "            ax.imshow(imc, vmax=vmax)\n",
    "            rect = patches.Rectangle([j - 0.5, i - 0.5], 1, 1, color='yellow', fill=False)\n",
    "            ax.add_patch(rect)\n",
    "\n",
    "        plt.show()\n",
    "    return filter_step\n",
    "\n",
    "\n",
    "def filter_interactive_demo(image, operation):\n",
    "    from ipywidgets import IntSlider, interact, Layout\n",
    "    filter_step = filter_demo(image, operation)\n",
    "    step_slider = IntSlider(min=0, max=image.size-1, value=0, layout=Layout(width='50%') )\n",
    "    interact(filter_step, i_step=step_slider)\n",
    "\n",
    "\n",
    "def iter_kernel(image, size=1):\n",
    "\n",
    "    width = 2*size + 1\n",
    "    for (i, j), pixel in iter_pixels(image):\n",
    "        mask = np.zeros(image.shape, dtype='int16')\n",
    "        mask[i, j] = 1\n",
    "        mask = ndi.grey_dilation(mask, size=width, structure=morphology.disk(1))-1\n",
    "        mask[i, j] = 2\n",
    "        subimage = image[bounded_slice((i, j), image.shape[:2], size=size)]\n",
    "        yield (i, j), mask\n",
    "\n",
    "\n",
    "def iter_pixels(image):\n",
    "    \"\"\" Yield pixel position (row, column) and pixel intensity. \"\"\"\n",
    "    height, width = image.shape[:2]\n",
    "    for i in range(height):\n",
    "        for j in range(width):\n",
    "            yield (i, j), image[i, j]\n",
    "\n",
    "\n",
    "def bounded_slice(center, xy_max, size=1, i_min=0):\n",
    "    slices = []\n",
    "    for i, i_max in zip(center, xy_max):\n",
    "        slices.append(slice(max(i - size, i_min), min(i + size + 1, i_max)))\n",
    "    return tuple(slices)"
   ]
  },
  {
   "cell_type": "markdown",
   "metadata": {},
   "source": [
    "### Erosion & Dilation"
   ]
  },
  {
   "cell_type": "code",
   "execution_count": 12,
   "metadata": {
    "scrolled": false
   },
   "outputs": [
    {
     "data": {
      "application/vnd.jupyter.widget-view+json": {
       "model_id": "0c9ed95fdf05419f99af850fd3b00049",
       "version_major": 2,
       "version_minor": 0
      },
      "text/plain": [
       "interactive(children=(IntSlider(value=0, description='i_step', layout=Layout(width='50%'), max=99), Output()),…"
      ]
     },
     "metadata": {},
     "output_type": "display_data"
    }
   ],
   "source": [
    "example = io.imread('binary.png', as_gray=True) > 0.5\n",
    "\n",
    "filter_interactive_demo(example, 'erosion')"
   ]
  },
  {
   "cell_type": "code",
   "execution_count": 11,
   "metadata": {},
   "outputs": [
    {
     "data": {
      "application/vnd.jupyter.widget-view+json": {
       "model_id": "bda79bf8aabb42aba2d3a59d8b7047f1",
       "version_major": 2,
       "version_minor": 0
      },
      "text/plain": [
       "interactive(children=(IntSlider(value=0, description='i_step', layout=Layout(width='50%'), max=99), Output()),…"
      ]
     },
     "metadata": {},
     "output_type": "display_data"
    }
   ],
   "source": [
    "filter_interactive_demo(example, 'dilation')"
   ]
  }
 ],
 "metadata": {
  "kernelspec": {
   "display_name": "Python 3 (ipykernel)",
   "language": "python",
   "name": "python3"
  },
  "language_info": {
   "codemirror_mode": {
    "name": "ipython",
    "version": 3
   },
   "file_extension": ".py",
   "mimetype": "text/x-python",
   "name": "python",
   "nbconvert_exporter": "python",
   "pygments_lexer": "ipython3",
   "version": "3.11.5"
  },
  "varInspector": {
   "cols": {
    "lenName": 16,
    "lenType": 16,
    "lenVar": 40
   },
   "kernels_config": {
    "python": {
     "delete_cmd_postfix": "",
     "delete_cmd_prefix": "del ",
     "library": "var_list.py",
     "varRefreshCmd": "print(var_dic_list())"
    },
    "r": {
     "delete_cmd_postfix": ") ",
     "delete_cmd_prefix": "rm(",
     "library": "var_list.r",
     "varRefreshCmd": "cat(var_dic_list()) "
    }
   },
   "types_to_exclude": [
    "module",
    "function",
    "builtin_function_or_method",
    "instance",
    "_Feature"
   ],
   "window_display": false
  }
 },
 "nbformat": 4,
 "nbformat_minor": 4
}

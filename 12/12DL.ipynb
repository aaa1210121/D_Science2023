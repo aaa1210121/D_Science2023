{
  "cells": [
    {
      "cell_type": "markdown",
      "metadata": {
        "id": "BL81eXaFaCTp"
      },
      "source": [
        "# **12 Deep Learning(T)**"
      ]
    },
    {
      "cell_type": "code",
      "execution_count": 1,
      "metadata": {
        "id": "VHT_Sfp4yFhq"
      },
      "outputs": [],
      "source": [
        "import numpy as np\n",
        "import torch\n",
        "from torch import nn, optim\n",
        "from torchvision import datasets\n",
        "import torchvision.transforms as transforms\n",
        "from torch.utils.data.sampler import SubsetRandomSampler\n",
        "from sklearn.metrics import accuracy_score\n",
        "from tqdm import tqdm\n",
        "import math\n",
        "import torch.nn.functional as F\n",
        "import time\n",
        "import itertools\n",
        "import matplotlib.pyplot as plt\n",
        "\n",
        "%matplotlib inline"
      ]
    },
    {
      "cell_type": "markdown",
      "metadata": {
        "id": "jTunlYLrgwVE"
      },
      "source": [
        "## **<span style='color:#EA7500\t'>Enabling and testing the GPU on Google Colab</span>**\n",
        "\n",
        "Enable GPUs for the notebook:\n",
        "\n",
        "- Navigate to Edit (編輯)→Notebook Settings (筆記本設定)\n",
        "- select GPU from the Hardware Accelerator drop-down (在硬體加速器選擇\"T4 GPU\")"
      ]
    },
    {
      "cell_type": "code",
      "execution_count": 2,
      "metadata": {
        "colab": {
          "base_uri": "https://localhost:8080/"
        },
        "id": "_ljpjOOCP8x1",
        "outputId": "314a8a8d-a921-4fe7-c598-6e93ac38dfb2"
      },
      "outputs": [
        {
          "name": "stdout",
          "output_type": "stream",
          "text": [
            "Mon Dec 11 14:04:55 2023       \n",
            "+---------------------------------------------------------------------------------------+\n",
            "| NVIDIA-SMI 545.84                 Driver Version: 545.84       CUDA Version: 12.3     |\n",
            "|-----------------------------------------+----------------------+----------------------+\n",
            "| GPU  Name                     TCC/WDDM  | Bus-Id        Disp.A | Volatile Uncorr. ECC |\n",
            "| Fan  Temp   Perf          Pwr:Usage/Cap |         Memory-Usage | GPU-Util  Compute M. |\n",
            "|                                         |                      |               MIG M. |\n",
            "|=========================================+======================+======================|\n",
            "|   0  NVIDIA GeForce RTX 2060      WDDM  | 00000000:01:00.0  On |                  N/A |\n",
            "|  0%   48C    P8              21W / 170W |   5827MiB /  6144MiB |     14%      Default |\n",
            "|                                         |                      |                  N/A |\n",
            "+-----------------------------------------+----------------------+----------------------+\n",
            "                                                                                         \n",
            "+---------------------------------------------------------------------------------------+\n",
            "| Processes:                                                                            |\n",
            "|  GPU   GI   CI        PID   Type   Process name                            GPU Memory |\n",
            "|        ID   ID                                                             Usage      |\n",
            "|=======================================================================================|\n",
            "|    0   N/A  N/A      1300    C+G   ...ekyb3d8bbwe\\PhoneExperienceHost.exe    N/A      |\n",
            "|    0   N/A  N/A      1628    C+G   ...oogle\\Chrome\\Application\\chrome.exe    N/A      |\n",
            "|    0   N/A  N/A      3736    C+G   ...t Office\\root\\Office16\\POWERPNT.EXE    N/A      |\n",
            "|    0   N/A  N/A      6504    C+G   ....Search_cw5n1h2txyewy\\SearchApp.exe    N/A      |\n",
            "|    0   N/A  N/A      6868    C+G   C:\\Windows\\explorer.exe                   N/A      |\n",
            "|    0   N/A  N/A      7144    C+G   ...siveControlPanel\\SystemSettings.exe    N/A      |\n",
            "|    0   N/A  N/A      7480    C+G   ...2txyewy\\StartMenuExperienceHost.exe    N/A      |\n",
            "|    0   N/A  N/A      8184    C+G   ....Search_cw5n1h2txyewy\\SearchApp.exe    N/A      |\n",
            "|    0   N/A  N/A      9704    C+G   ...CBS_cw5n1h2txyewy\\TextInputHost.exe    N/A      |\n",
            "|    0   N/A  N/A      9748    C+G   ...GeForce Experience\\NVIDIA Share.exe    N/A      |\n",
            "|    0   N/A  N/A     10224    C+G   ...5n1h2txyewy\\ShellExperienceHost.exe    N/A      |\n",
            "|    0   N/A  N/A     10972    C+G   ...1.0_x64__8wekyb3d8bbwe\\Video.UI.exe    N/A      |\n",
            "|    0   N/A  N/A     11516    C+G   ..._8wekyb3d8bbwe\\PaintStudio.View.exe    N/A      |\n",
            "|    0   N/A  N/A     11956    C+G   ...les\\Microsoft OneDrive\\OneDrive.exe    N/A      |\n",
            "|    0   N/A  N/A     12564    C+G   ...ft Office\\root\\Office16\\WINWORD.EXE    N/A      |\n",
            "|    0   N/A  N/A     12676    C+G   ...ata\\Local\\LINE\\bin\\current\\LINE.exe    N/A      |\n",
            "|    0   N/A  N/A     14272    C+G   ...gin\\LineCall\\1.0.0.699\\LineCall.exe    N/A      |\n",
            "|    0   N/A  N/A     14988    C+G   ...crosoft\\Edge\\Application\\msedge.exe    N/A      |\n",
            "|    0   N/A  N/A     15336    C+G   ...\\cef\\cef.win7x64\\steamwebhelper.exe    N/A      |\n",
            "|    0   N/A  N/A     17876      C   ...rograms\\Python\\Python311\\python.exe    N/A      |\n",
            "|    0   N/A  N/A     18268    C+G   ...Programs\\Microsoft VS Code\\Code.exe    N/A      |\n",
            "|    0   N/A  N/A     18376    C+G   ...ft Office\\root\\Office16\\WINWORD.EXE    N/A      |\n",
            "+---------------------------------------------------------------------------------------+\n"
          ]
        }
      ],
      "source": [
        "!nvidia-smi"
      ]
    },
    {
      "cell_type": "markdown",
      "metadata": {
        "id": "QeJFtyPcef_h"
      },
      "source": [
        "\n",
        "## **<span style='color:#EA7500\t'>Tensors</span>**\n"
      ]
    },
    {
      "cell_type": "code",
      "execution_count": 3,
      "metadata": {
        "colab": {
          "base_uri": "https://localhost:8080/"
        },
        "id": "6IcaZ-LEhMFM",
        "outputId": "7114c1fe-9774-429e-8951-006f6560c492"
      },
      "outputs": [
        {
          "name": "stdout",
          "output_type": "stream",
          "text": [
            "x:  tensor([5.5000, 3.0000])\n",
            "y:  [5.5 3. ]\n"
          ]
        }
      ],
      "source": [
        "x = torch.tensor([5.5, 3])\n",
        "print('x: ', x)\n",
        "\n",
        "y = np.array([5.5, 3])\n",
        "print('y: ', y)"
      ]
    },
    {
      "cell_type": "code",
      "execution_count": 4,
      "metadata": {
        "colab": {
          "base_uri": "https://localhost:8080/"
        },
        "id": "xT0UTqtehGw_",
        "outputId": "fd034d89-6f73-4466-af1d-f0a04b15346d"
      },
      "outputs": [
        {
          "name": "stdout",
          "output_type": "stream",
          "text": [
            "tensor([[0., 0., 0.],\n",
            "        [0., 0., 0.],\n",
            "        [0., 0., 0.],\n",
            "        [0., 0., 0.],\n",
            "        [0., 0., 0.]])\n"
          ]
        }
      ],
      "source": [
        "x = torch.zeros((5, 3), dtype=torch.float)\n",
        "print(x)"
      ]
    },
    {
      "cell_type": "code",
      "execution_count": 5,
      "metadata": {
        "colab": {
          "base_uri": "https://localhost:8080/"
        },
        "id": "3k_yt5EEb46I",
        "outputId": "744eeb0a-61e6-4931-91a4-0b1915dd6ece"
      },
      "outputs": [
        {
          "name": "stdout",
          "output_type": "stream",
          "text": [
            "torch.Size([5, 3])\n"
          ]
        }
      ],
      "source": [
        "print(x.shape)"
      ]
    },
    {
      "cell_type": "markdown",
      "metadata": {
        "id": "ISlqgHIL00FC"
      },
      "source": [
        "## **<span style='color:#EA7500\t'>Operations</span>**\n"
      ]
    },
    {
      "cell_type": "markdown",
      "metadata": {
        "id": "MPmNyyG-bIuq"
      },
      "source": [
        "- ### **Arithmetic**"
      ]
    },
    {
      "cell_type": "code",
      "execution_count": 6,
      "metadata": {
        "colab": {
          "base_uri": "https://localhost:8080/"
        },
        "id": "DupCPBlEhaxI",
        "outputId": "2bc87d13-b01c-4444-e445-13c2779809f8"
      },
      "outputs": [
        {
          "name": "stdout",
          "output_type": "stream",
          "text": [
            "tensor([[ 2.,  3.,  4.,  5.,  6.,  7.,  8.,  9., 10., 11.]])\n"
          ]
        }
      ],
      "source": [
        "x = torch.linspace(1, 10, 10)\n",
        "y = torch.ones((1, 10))\n",
        "\n",
        "print(x+y)"
      ]
    },
    {
      "cell_type": "markdown",
      "metadata": {
        "id": "W9q-prbtyFht"
      },
      "source": [
        "\n",
        "- ### **Indexing & Slincing**\n"
      ]
    },
    {
      "cell_type": "code",
      "execution_count": 7,
      "metadata": {
        "colab": {
          "base_uri": "https://localhost:8080/"
        },
        "id": "BbgVPFLP5TUk",
        "outputId": "be7a2f30-af91-4c76-9c6f-dcd318315ad4"
      },
      "outputs": [
        {
          "name": "stdout",
          "output_type": "stream",
          "text": [
            "tensor([1., 2., 3., 4., 5.])\n"
          ]
        }
      ],
      "source": [
        "print(x[:5])"
      ]
    },
    {
      "cell_type": "markdown",
      "metadata": {
        "id": "eD17-qfGyFhu"
      },
      "source": [
        "\n",
        "- ### **Resizing**\n",
        "\n",
        "#### Note: Use `torch.view` if you want to resize/reshape tensor."
      ]
    },
    {
      "cell_type": "code",
      "execution_count": 8,
      "metadata": {
        "colab": {
          "base_uri": "https://localhost:8080/"
        },
        "id": "JHK1GXiyb46V",
        "outputId": "d0acf03b-5177-4e56-c36e-5e29849a619e"
      },
      "outputs": [
        {
          "name": "stdout",
          "output_type": "stream",
          "text": [
            "torch.Size([4, 4]) torch.Size([16]) torch.Size([2, 8])\n"
          ]
        }
      ],
      "source": [
        "x = torch.randn(4, 4)\n",
        "y = x.view(16)\n",
        "z = x.view(-1, 8)  # the size -1 is inferred from other dimensions\n",
        "print(x.shape, y.shape, z.shape)"
      ]
    },
    {
      "cell_type": "markdown",
      "metadata": {
        "id": "BpBEFUOKbxfV"
      },
      "source": [
        "#### Note: If you have a one element tensor, use ``.item()`` to get the value as a Python number."
      ]
    },
    {
      "cell_type": "code",
      "execution_count": 9,
      "metadata": {
        "colab": {
          "base_uri": "https://localhost:8080/"
        },
        "id": "IE0DZ6lPbzdQ",
        "outputId": "10bc490c-fc15-46d0-9380-b3fddc923f70"
      },
      "outputs": [
        {
          "name": "stdout",
          "output_type": "stream",
          "text": [
            "tensor([0.4934])\n",
            "0.4933909773826599\n"
          ]
        }
      ],
      "source": [
        "x = torch.randn(1)\n",
        "print(x)\n",
        "print(x.item())"
      ]
    },
    {
      "cell_type": "markdown",
      "metadata": {
        "id": "jpbRNMy_iQkE"
      },
      "source": [
        "## **<span style='color:#EA7500\t'>NumPy Bridge</span>**\n",
        "#### Converting a Torch Tensor to a NumPy array and vice versa is a breeze.\n",
        "\n",
        "The Torch Tensor and NumPy array will share their underlying memory\n",
        "locations (if the Torch Tensor is on CPU),   \n",
        "and changing one will change\n",
        "the other."
      ]
    },
    {
      "cell_type": "markdown",
      "metadata": {
        "id": "l8hcqJ_sc27i"
      },
      "source": [
        "\n",
        "- ### **NumPy Array → Torch Tensor**\n"
      ]
    },
    {
      "cell_type": "code",
      "execution_count": 10,
      "metadata": {
        "colab": {
          "base_uri": "https://localhost:8080/"
        },
        "id": "nC6s78kwckU5",
        "outputId": "2abcf757-3d7e-4ccb-fe02-db96af72614e"
      },
      "outputs": [
        {
          "name": "stdout",
          "output_type": "stream",
          "text": [
            "[1. 1. 1. 1. 1.]\n",
            "tensor([1., 1., 1., 1., 1.], dtype=torch.float64)\n"
          ]
        }
      ],
      "source": [
        "a = np.ones(5)\n",
        "b = torch.from_numpy(a)\n",
        "print(a)\n",
        "print(b)"
      ]
    },
    {
      "cell_type": "markdown",
      "metadata": {
        "id": "4oN4-0M_dD0_"
      },
      "source": [
        "\n",
        "- ### **Torch Tensor → NumPy Array**\n"
      ]
    },
    {
      "cell_type": "code",
      "execution_count": 11,
      "metadata": {
        "colab": {
          "base_uri": "https://localhost:8080/"
        },
        "id": "QjvAlVWyiRhr",
        "outputId": "5288edc1-b0ff-4200-c64f-cad101f80ea7"
      },
      "outputs": [
        {
          "name": "stdout",
          "output_type": "stream",
          "text": [
            "tensor([1., 1., 1., 1., 1.])\n",
            "[1. 1. 1. 1. 1.]\n"
          ]
        }
      ],
      "source": [
        "a = torch.ones(5)\n",
        "print(a)\n",
        "b = a.numpy()\n",
        "print(b)"
      ]
    },
    {
      "cell_type": "code",
      "execution_count": 12,
      "metadata": {
        "colab": {
          "base_uri": "https://localhost:8080/"
        },
        "id": "6LSJWQ9uifsA",
        "outputId": "3aac3419-d498-4599-e265-7a0ffc5b6c47"
      },
      "outputs": [
        {
          "name": "stdout",
          "output_type": "stream",
          "text": [
            "tensor([2., 2., 2., 2., 2.])\n",
            "[2. 2. 2. 2. 2.]\n"
          ]
        }
      ],
      "source": [
        "a.add_(1)\n",
        "print(a)\n",
        "print(b)"
      ]
    },
    {
      "cell_type": "markdown",
      "metadata": {
        "id": "r-lfe293jGNC"
      },
      "source": [
        "\n",
        "## **<span style='color:#EA7500\t'>Tensors | CUDA</span>**\n",
        "#### Tensors can be moved onto any device using the ``.to`` method.\n",
        "\n",
        "Let us run this cell only if CUDA is available\n",
        "We will use ``torch.device`` objects to move tensors in and out of GPU."
      ]
    },
    {
      "cell_type": "code",
      "execution_count": 13,
      "metadata": {
        "colab": {
          "base_uri": "https://localhost:8080/"
        },
        "id": "I2-gHNCXjFra",
        "outputId": "f77228e0-1d35-4d6f-d052-a3867e5778bf"
      },
      "outputs": [
        {
          "name": "stdout",
          "output_type": "stream",
          "text": [
            "tensor([1.4934], device='cuda:0')\n",
            "tensor([1.4934], dtype=torch.float64)\n"
          ]
        }
      ],
      "source": [
        "if torch.cuda.is_available():\n",
        "    device = torch.device(\"cuda\")\n",
        "    y = torch.ones_like(x, device=device)\n",
        "    x = x.to(device)                        # or just use strings ``.to(\"cuda\")``\n",
        "    z = x + y\n",
        "    print(z)\n",
        "    print(z.to(\"cpu\", torch.double))        # ``.to`` can also change dtype together!"
      ]
    },
    {
      "cell_type": "code",
      "execution_count": 14,
      "metadata": {
        "colab": {
          "base_uri": "https://localhost:8080/"
        },
        "id": "mqMuCxhyitPc",
        "outputId": "ef0b16d6-fd84-4588-920d-a24ad6fa8e08"
      },
      "outputs": [
        {
          "data": {
            "text/plain": [
              "array([0.49339098], dtype=float32)"
            ]
          },
          "execution_count": 14,
          "metadata": {},
          "output_type": "execute_result"
        }
      ],
      "source": [
        "x.cpu().numpy()"
      ]
    },
    {
      "cell_type": "markdown",
      "metadata": {
        "id": "cs1R_5jUyFhv"
      },
      "source": [
        "\n",
        "## **<span style='color:#EA7500\t'>What is PyTorch?</span>**\n"
      ]
    },
    {
      "cell_type": "code",
      "execution_count": 15,
      "metadata": {
        "colab": {
          "base_uri": "https://localhost:8080/",
          "height": 35
        },
        "id": "3Gu_mmulek0w",
        "outputId": "04ca2e42-bd22-422d-8513-de272b369b91"
      },
      "outputs": [
        {
          "data": {
            "text/plain": [
              "'2.1.1+cu121'"
            ]
          },
          "execution_count": 15,
          "metadata": {},
          "output_type": "execute_result"
        }
      ],
      "source": [
        "import torch\n",
        "\n",
        "torch.__version__"
      ]
    },
    {
      "cell_type": "code",
      "execution_count": 16,
      "metadata": {
        "colab": {
          "base_uri": "https://localhost:8080/"
        },
        "id": "mMrOLJz0hDIi",
        "outputId": "0af48ef9-91c1-41f4-f991-b88d050c2340"
      },
      "outputs": [
        {
          "name": "stdout",
          "output_type": "stream",
          "text": [
            "device cpu, size 10, time 3.989934921264648e-05\n",
            "device cpu, size 100, time 1.9941329956054688e-05\n",
            "device cpu, size 1000, time 4.985809326171875e-05\n",
            "device cpu, size 10000, time 9.974479675292969e-05\n",
            "device cpu, size 100000, time 0.00035904645919799806\n",
            "device cpu, size 1000000, time 0.002283895015716553\n",
            "device cpu, size 10000000, time 0.022190659046173095\n",
            "device cpu, size 100000000, time 0.23134644985198974\n",
            "device cuda, size 10, time 0.00031914949417114255\n",
            "device cuda, size 100, time 0.00026927471160888674\n",
            "device cuda, size 1000, time 0.00026927947998046876\n",
            "device cuda, size 10000, time 0.00034907102584838865\n",
            "device cuda, size 100000, time 0.0005090165138244628\n",
            "device cuda, size 1000000, time 0.0013663411140441895\n",
            "device cuda, size 10000000, time 0.0010674262046813964\n",
            "device cuda, size 100000000, time 0.00618377685546875\n"
          ]
        }
      ],
      "source": [
        "nb_iters = 100\n",
        "\n",
        "for device in ['cpu', 'cuda']:\n",
        "    for s in torch.logspace(1, 8, steps=8).int():\n",
        "        img = torch.randint(0, 256, (s,), device=device).float()\n",
        "        torch.cuda.synchronize()\n",
        "        t0 = time.time()\n",
        "        for _ in range(nb_iters):\n",
        "            out = torch.histc(img, bins=256)\n",
        "        torch.cuda.synchronize()\n",
        "        t1 = time.time()\n",
        "        print('device {}, size {}, time {}'.format(\n",
        "            device, s, (t1 - t0)/nb_iters))\n",
        "\n"
      ]
    },
    {
      "cell_type": "markdown",
      "metadata": {
        "id": "hzMTnqaayFhw"
      },
      "source": [
        "## **<span style='color:#EA7500\t'>Artificial Neural Networks</span>**"
      ]
    },
    {
      "cell_type": "markdown",
      "metadata": {
        "id": "SaXMWGGEE2rx"
      },
      "source": [
        "A typical training procedure for a neural network is as follows:\n",
        "\n",
        "- Define the neural network that has some learnable parameters (or\n",
        "  weights)\n",
        "- Iterate over a dataset of inputs\n",
        "- Process input through the network\n",
        "- Compute the loss (how far is the output from being correct)\n",
        "- Propagate gradients back into the network’s parameters\n",
        "- Update the weights of the network, typically using a simple update rule:\n",
        "  ``weight = weight - learning_rate * gradient``"
      ]
    },
    {
      "cell_type": "markdown",
      "metadata": {
        "id": "D6FUHX_ZfsP0"
      },
      "source": [
        "- ### **Step 1: Load the dataset**"
      ]
    },
    {
      "cell_type": "code",
      "execution_count": 17,
      "metadata": {
        "colab": {
          "base_uri": "https://localhost:8080/"
        },
        "id": "lFNm_DEyIkyd",
        "outputId": "1e8cc348-7a1a-4b8a-8176-06c145c6cc56"
      },
      "outputs": [
        {
          "data": {
            "text/plain": [
              "(1797, 8, 8)"
            ]
          },
          "execution_count": 17,
          "metadata": {},
          "output_type": "execute_result"
        }
      ],
      "source": [
        "from sklearn.datasets import load_digits\n",
        "digits = load_digits()\n",
        "digits.images.shape\n",
        "\n",
        "# https://scikit-learn.org/stable/modules/generated/sklearn.datasets.load_digits.html"
      ]
    },
    {
      "cell_type": "code",
      "execution_count": 18,
      "metadata": {
        "colab": {
          "base_uri": "https://localhost:8080/",
          "height": 653
        },
        "id": "kGxraanfJZXk",
        "outputId": "dc517ad0-0c9e-4dcb-aa05-ac3b73846101"
      },
      "outputs": [
        {
          "data": {
            "image/png": "[encoded data removed]",
            "text/plain": [
              "<Figure size 800x800 with 100 Axes>"
            ]
          },
          "metadata": {},
          "output_type": "display_data"
        }
      ],
      "source": [
        "fig, axes = plt.subplots(10, 10, figsize=(8, 8),\n",
        "                         subplot_kw={'xticks':[], 'yticks':[]},\n",
        "                         gridspec_kw=dict(hspace=0.1, wspace=0.1))\n",
        "\n",
        "for i, ax in enumerate(axes.flat):\n",
        "    ax.imshow(digits.images[i], cmap='binary', interpolation='nearest')\n",
        "    ax.text(0.05, 0.05, str(digits.target[i]),\n",
        "            transform=ax.transAxes, color='green')"
      ]
    },
    {
      "cell_type": "code",
      "execution_count": 19,
      "metadata": {
        "colab": {
          "base_uri": "https://localhost:8080/"
        },
        "id": "ok4LtfvyJcOQ",
        "outputId": "7b3a6fee-0fd1-489e-af87-d9e5cc8da46c"
      },
      "outputs": [
        {
          "name": "stdout",
          "output_type": "stream",
          "text": [
            "X_train_tensor type: <class 'torch.Tensor'>\n",
            "X_train_tensor shape: torch.Size([1437, 64])\n",
            "y_train_tensor type: <class 'torch.Tensor'>\n",
            "y_train_tensor shape:  torch.Size([1437])\n"
          ]
        }
      ],
      "source": [
        "from sklearn.model_selection import train_test_split\n",
        "\n",
        "X_train, X_test, y_train, y_test = train_test_split(digits.data, digits.target, test_size=0.2)\n",
        "\n",
        "X_train_tensor = torch.tensor(X_train, dtype=torch.float)\n",
        "y_train_tensor = torch.tensor(y_train, dtype=torch.long)\n",
        "\n",
        "X_test_tensor = torch.tensor(X_test, dtype=torch.float)\n",
        "y_test_tensor = torch.tensor(y_test, dtype=torch.long)\n",
        "\n",
        "print('X_train_tensor type:', type(X_train_tensor) )\n",
        "print('X_train_tensor shape:', X_train_tensor.shape )\n",
        "print('y_train_tensor type:', type(y_train_tensor) )\n",
        "print('y_train_tensor shape: ', y_train_tensor.shape )"
      ]
    },
    {
      "cell_type": "code",
      "execution_count": 20,
      "metadata": {
        "colab": {
          "base_uri": "https://localhost:8080/"
        },
        "id": "9tjXDPcUJuaS",
        "outputId": "454fc221-c599-4aea-875e-70d5fea85d33"
      },
      "outputs": [
        {
          "name": "stdout",
          "output_type": "stream",
          "text": [
            "tensor([0, 1, 2,  ..., 8, 9, 8])\n"
          ]
        }
      ],
      "source": [
        "y = torch.tensor(digits.target, dtype=torch.long)\n",
        "print(y)"
      ]
    },
    {
      "cell_type": "markdown",
      "metadata": {
        "id": "W1VIO0W_E6Fz"
      },
      "source": [
        "\n",
        "- ### **Step 2: Define the network**"
      ]
    },
    {
      "cell_type": "code",
      "execution_count": 21,
      "metadata": {
        "id": "kyzZgivpEdM_"
      },
      "outputs": [],
      "source": [
        "import torch\n",
        "import torch.nn as nn\n",
        "import torch.nn.functional as F\n",
        "\n",
        "class TwoLayerNet(nn.Module):\n",
        "\n",
        "    def __init__(self):\n",
        "        super(TwoLayerNet, self).__init__()\n",
        "        self.linear1 = nn.Linear(64, 32)\n",
        "        self.linear2 = nn.Linear(32, 10)\n",
        "\n",
        "    def forward(self, x):\n",
        "        x = F.relu(self.linear1(x))\n",
        "        x = self.linear2(x)\n",
        "        return x"
      ]
    },
    {
      "cell_type": "code",
      "execution_count": 22,
      "metadata": {
        "colab": {
          "base_uri": "https://localhost:8080/"
        },
        "id": "mGvOZgNuoWDb",
        "outputId": "2f523dc5-2fa7-4504-e398-6fab2cce325a"
      },
      "outputs": [
        {
          "name": "stdout",
          "output_type": "stream",
          "text": [
            "Model architecture:\n",
            "TwoLayerNet(\n",
            "  (linear1): Linear(in_features=64, out_features=32, bias=True)\n",
            "  (linear2): Linear(in_features=32, out_features=10, bias=True)\n",
            ")\n",
            "Parameter containing:\n",
            "tensor([[-0.0804, -0.0170,  0.0689,  ..., -0.0315, -0.0272, -0.0605],\n",
            "        [-0.1072, -0.0103,  0.0994,  ...,  0.0411,  0.0399, -0.0090],\n",
            "        [ 0.0748, -0.0472,  0.0733,  ...,  0.0006, -0.0783, -0.0280],\n",
            "        ...,\n",
            "        [-0.0812, -0.0861, -0.1029,  ..., -0.0942, -0.0669, -0.1097],\n",
            "        [ 0.0418, -0.0732, -0.0853,  ...,  0.0220,  0.0114, -0.0276],\n",
            "        [ 0.0816, -0.1050, -0.0272,  ..., -0.0847, -0.0754,  0.1073]],\n",
            "       requires_grad=True)\n",
            "torch.Size([32, 64])\n",
            "Parameter containing:\n",
            "tensor([ 0.0554, -0.0623, -0.1015, -0.1004,  0.0591,  0.0145,  0.0060, -0.0522,\n",
            "         0.0029, -0.0626,  0.0689,  0.0570,  0.0625, -0.1149,  0.1038, -0.0910,\n",
            "        -0.1091, -0.0540, -0.1115,  0.0308,  0.0589,  0.1240, -0.0738,  0.0079,\n",
            "        -0.0036,  0.0097, -0.1232,  0.0480, -0.0159,  0.0360,  0.1102,  0.0306],\n",
            "       requires_grad=True)\n",
            "torch.Size([32])\n",
            "Parameter containing:\n",
            "tensor([[ 0.0270,  0.0464, -0.1024,  0.0496,  0.0967, -0.0992, -0.0077, -0.0262,\n",
            "         -0.0480, -0.1285, -0.1340,  0.1227, -0.0934, -0.0435, -0.0049,  0.1656,\n",
            "          0.1444, -0.0982, -0.0415,  0.0014, -0.0842,  0.0487,  0.1655,  0.1696,\n",
            "         -0.0579, -0.0348,  0.0157, -0.1427, -0.0863,  0.0615,  0.1531, -0.0211],\n",
            "        [-0.0851,  0.0579, -0.0949, -0.1042, -0.0432, -0.1588,  0.0158,  0.0576,\n",
            "          0.1737,  0.0521, -0.0017, -0.1240,  0.1024, -0.0938,  0.0627, -0.0783,\n",
            "         -0.0783, -0.0117, -0.1484, -0.0742, -0.0465,  0.0859, -0.0994, -0.0799,\n",
            "         -0.0193,  0.0618, -0.1736,  0.0847,  0.0490,  0.0624,  0.1081, -0.1627],\n",
            "        [-0.0929, -0.1757,  0.1761, -0.0462, -0.1757,  0.1177,  0.0241,  0.0089,\n",
            "         -0.1310,  0.0475, -0.0944,  0.1449, -0.1727, -0.0255,  0.0886,  0.1298,\n",
            "          0.1091,  0.1602, -0.1068,  0.0522, -0.1661, -0.0920,  0.1378,  0.0479,\n",
            "          0.0009, -0.0341, -0.1122, -0.0548,  0.0425,  0.0838,  0.0806,  0.0530],\n",
            "        [-0.0149,  0.1383, -0.0708, -0.1656, -0.0604,  0.0635,  0.1592, -0.1524,\n",
            "          0.1581, -0.0712,  0.0637,  0.0972, -0.0844,  0.0818,  0.1646, -0.0823,\n",
            "         -0.0363,  0.0682, -0.0471, -0.1201, -0.0523, -0.1199, -0.1202,  0.0807,\n",
            "          0.0449, -0.0179, -0.0390, -0.1128, -0.0234,  0.0992, -0.0548,  0.0637],\n",
            "        [-0.0279, -0.0432, -0.1101,  0.0692, -0.0609, -0.0462,  0.0168,  0.1171,\n",
            "         -0.1755,  0.1405, -0.1407,  0.0207,  0.0946, -0.1351, -0.0120, -0.0057,\n",
            "         -0.0061, -0.1380,  0.0258,  0.1032,  0.1462, -0.0941,  0.0162, -0.0756,\n",
            "         -0.0261, -0.1198,  0.1073,  0.1345, -0.1703, -0.1122,  0.1449,  0.0296],\n",
            "        [ 0.1076,  0.1611, -0.1766, -0.0845, -0.0230,  0.1535,  0.0437, -0.0712,\n",
            "         -0.1353, -0.0232,  0.1229,  0.0962, -0.0114,  0.1533,  0.1247,  0.1459,\n",
            "         -0.1547, -0.0086, -0.1100,  0.1623, -0.0651,  0.0497, -0.0738,  0.0553,\n",
            "         -0.0024,  0.0583,  0.0838,  0.0812, -0.1164, -0.1529,  0.1347, -0.0876],\n",
            "        [ 0.0409, -0.1274, -0.1044, -0.0362,  0.1150, -0.0993,  0.0174, -0.0235,\n",
            "          0.1107,  0.1338,  0.1658,  0.0822, -0.0389, -0.0651, -0.1265,  0.0301,\n",
            "          0.0626, -0.0594,  0.1457, -0.0806, -0.1764, -0.0342, -0.1179, -0.0163,\n",
            "          0.0525, -0.0028, -0.0077,  0.1433, -0.1304, -0.1225,  0.1031, -0.0359],\n",
            "        [ 0.0256, -0.0005, -0.0051, -0.0412, -0.0970, -0.0752, -0.1218,  0.0728,\n",
            "         -0.1334,  0.0490,  0.1753, -0.0164,  0.1466,  0.0292, -0.0975,  0.0257,\n",
            "         -0.0187,  0.0348,  0.0679,  0.1083, -0.1205, -0.0915,  0.1683, -0.0722,\n",
            "          0.0793,  0.1616, -0.1752, -0.1676, -0.0816,  0.1572,  0.0142, -0.1055],\n",
            "        [ 0.0204, -0.1102,  0.0629,  0.0988,  0.0522,  0.1391,  0.0164,  0.0148,\n",
            "         -0.0667,  0.1084,  0.0609,  0.1517,  0.0885,  0.0528, -0.0936,  0.0504,\n",
            "          0.0033,  0.1103,  0.1713,  0.1135, -0.0017, -0.1020, -0.0903,  0.1175,\n",
            "         -0.1120,  0.0484, -0.1183, -0.0008, -0.1646, -0.0909,  0.0795,  0.1581],\n",
            "        [-0.0732,  0.1077, -0.0631,  0.0297, -0.0915,  0.0169, -0.1719,  0.0309,\n",
            "         -0.1647,  0.0274,  0.0920,  0.1554,  0.0932, -0.0092, -0.1294, -0.0607,\n",
            "          0.0729, -0.0365, -0.1632,  0.0571, -0.0980, -0.1254,  0.1039,  0.0171,\n",
            "          0.1374,  0.0064, -0.0022, -0.0433,  0.1220, -0.0130, -0.0742, -0.1357]],\n",
            "       requires_grad=True)\n",
            "torch.Size([10, 32])\n",
            "Parameter containing:\n",
            "tensor([-0.0717, -0.0841,  0.1575, -0.0403,  0.0474,  0.1097, -0.1523,  0.0389,\n",
            "         0.1165,  0.1205], requires_grad=True)\n",
            "torch.Size([10])\n"
          ]
        }
      ],
      "source": [
        "model = TwoLayerNet()\n",
        "print('Model architecture:')\n",
        "print(model)\n",
        "# print(list(model.parameters()))\n",
        "for layer in model.parameters():\n",
        "    print(layer)\n",
        "    print(layer.shape)"
      ]
    },
    {
      "cell_type": "markdown",
      "metadata": {
        "id": "Oifk53PNvOx3"
      },
      "source": [
        "\n",
        "- ### **Step 3: Define a Loss function and optimizer**"
      ]
    },
    {
      "cell_type": "markdown",
      "metadata": {
        "id": "rc84-id1TVis"
      },
      "source": []
    },
    {
      "cell_type": "code",
      "execution_count": 23,
      "metadata": {
        "id": "hc3jXjb7vRdk"
      },
      "outputs": [],
      "source": [
        "criterion = torch.nn.CrossEntropyLoss()\n",
        "optimizer = torch.optim.SGD(model.parameters(), lr=0.01)\n",
        "epoch = 100"
      ]
    },
    {
      "cell_type": "markdown",
      "metadata": {
        "id": "qpzL5fXiuIkI"
      },
      "source": [
        "- ### **Step 4: Train the model**"
      ]
    },
    {
      "cell_type": "code",
      "execution_count": 24,
      "metadata": {
        "colab": {
          "base_uri": "https://localhost:8080/"
        },
        "id": "R3FPvyu-Iimp",
        "outputId": "66da064e-29c3-4760-b401-e31ce02a93b8"
      },
      "outputs": [
        {
          "name": "stdout",
          "output_type": "stream",
          "text": [
            "Epoach 10\n",
            "loss:  1.912657618522644\n",
            "accuracy:  0.35421017\n",
            "Epoach 20\n",
            "loss:  1.4821865558624268\n",
            "accuracy:  0.55671537\n",
            "Epoach 30\n",
            "loss:  1.130531907081604\n",
            "accuracy:  0.7341684\n",
            "Epoach 40\n",
            "loss:  0.8708595633506775\n",
            "accuracy:  0.8051496\n",
            "Epoach 50\n",
            "loss:  0.7010464668273926\n",
            "accuracy:  0.8434238\n",
            "Epoach 60\n",
            "loss:  0.5861327052116394\n",
            "accuracy:  0.87125957\n",
            "Epoach 70\n",
            "loss:  0.5039032101631165\n",
            "accuracy:  0.8914405\n",
            "Epoach 80\n",
            "loss:  0.4423083961009979\n",
            "accuracy:  0.9039666\n",
            "Epoach 90\n",
            "loss:  0.394922137260437\n",
            "accuracy:  0.91162145\n",
            "Epoach 100\n",
            "loss:  0.35796797275543213\n",
            "accuracy:  0.9171886\n"
          ]
        }
      ],
      "source": [
        "training_loss = []\n",
        "training_accuracy = []\n",
        "for t in range(epoch):\n",
        "    # Forward pass: Compute predicted y by passing x to the model\n",
        "    y_pred = model(X_train_tensor)\n",
        "\n",
        "    # Compute and print loss\n",
        "    loss = criterion(y_pred, y_train_tensor)\n",
        "    acc = torch.sum(torch.argmax(y_pred, dim=1)==y_train_tensor) / y_train_tensor.shape[0]\n",
        "    if t % 10 == 9:\n",
        "        print('Epoach', t+1)\n",
        "        print('loss: ', loss.item())\n",
        "        print('accuracy: ', acc.numpy())\n",
        "\n",
        "    # Zero gradients, perform a backward pass, and update the weights.\n",
        "    optimizer.zero_grad()\n",
        "    loss.backward()\n",
        "    optimizer.step()\n",
        "    training_loss.append(loss.item())\n",
        "    training_accuracy.append(acc)"
      ]
    },
    {
      "cell_type": "code",
      "execution_count": 25,
      "metadata": {
        "colab": {
          "base_uri": "https://localhost:8080/",
          "height": 465
        },
        "id": "ScTJ2yI1bEv8",
        "outputId": "8fa3e77c-18f5-451b-babc-7383b2be0bd2"
      },
      "outputs": [
        {
          "data": {
            "image/png": "[encoded data removed]",
            "text/plain": [
              "<Figure size 640x480 with 2 Axes>"
            ]
          },
          "metadata": {},
          "output_type": "display_data"
        }
      ],
      "source": [
        "import matplotlib.pyplot as plt\n",
        "\n",
        "plt.style.use(\"seaborn-v0_8-whitegrid\")\n",
        "\n",
        "plt.subplot(2, 1, 1)\n",
        "plt.title(\"Loss & Accuracy\")\n",
        "plt.ylabel(\"Loss\")\n",
        "plt.plot(range(1, len(training_loss)+1), training_loss, label=\"Train Loss\", color='r')\n",
        "plt.xticks(np.arange(0, epoch, 10.0), )\n",
        "plt.legend()\n",
        "\n",
        "plt.subplot(2, 1, 2)\n",
        "plt.xlabel(\"Epochs\")\n",
        "plt.ylabel(\"Accuracy\")\n",
        "plt.plot(range(1, len(training_accuracy)+1), training_accuracy, label=\"Train Accuracy\", color='c')\n",
        "plt.plot()\n",
        "plt.xticks(np.arange(0, epoch, 10.0), )\n",
        "plt.legend()\n",
        "\n",
        "# plt.savefig('./results/Loss_Acc.jpg')\n",
        "plt.show()"
      ]
    },
    {
      "cell_type": "markdown",
      "metadata": {
        "id": "XzjEHgE7uPV5"
      },
      "source": [
        "- ### **Step 5: Test the model on the test data**"
      ]
    },
    {
      "cell_type": "code",
      "execution_count": 26,
      "metadata": {
        "colab": {
          "base_uri": "https://localhost:8080/",
          "height": 457
        },
        "id": "3GeU-zScuOzF",
        "outputId": "fe0e7e21-8a62-49fa-a945-08a4985253b3"
      },
      "outputs": [
        {
          "data": {
            "image/png": "[encoded data removed]",
            "text/plain": [
              "<Figure size 500x500 with 1 Axes>"
            ]
          },
          "metadata": {},
          "output_type": "display_data"
        },
        {
          "name": "stdout",
          "output_type": "stream",
          "text": [
            "True label:  4\n",
            "Predicted label:  4\n"
          ]
        }
      ],
      "source": [
        "i = 3\n",
        "plt.figure(figsize=(5,5))\n",
        "plt.imshow(X_test[i].reshape(8, 8), cmap='binary')\n",
        "plt.axis('off')\n",
        "plt.show()\n",
        "print('True label: ', y_test[i])\n",
        "\n",
        "with torch.no_grad():\n",
        "    x_test_tensor = X_test_tensor[i]\n",
        "    y_pred = model(x_test_tensor)\n",
        "\n",
        "    print('Predicted label: ', y_pred.argmax().item())"
      ]
    },
    {
      "cell_type": "code",
      "execution_count": 27,
      "metadata": {
        "colab": {
          "base_uri": "https://localhost:8080/"
        },
        "id": "ISNnLc7fy6SW",
        "outputId": "a3824eb1-425a-4029-f5bd-38763314861c"
      },
      "outputs": [
        {
          "name": "stdout",
          "output_type": "stream",
          "text": [
            "Accuracy of the model on the 360 test images: 90.83 %\n"
          ]
        }
      ],
      "source": [
        "with torch.no_grad():\n",
        "    y_pred = model(X_test_tensor).numpy().argmax(axis=1)\n",
        "    result = (y_pred == y_test).astype(int).sum()\n",
        "\n",
        "print('Accuracy of the model on the %d test images: %.2f %%' % (len(y_test), 100 * result/len(y_test)))"
      ]
    },
    {
      "cell_type": "code",
      "execution_count": 46,
      "metadata": {
        "id": "gy0cDp4Oujm-"
      },
      "outputs": [],
      "source": [
        "# util functions\n",
        "def plot_confusion_matrix(cm, classes,\n",
        "                          normalize=False,\n",
        "                          title='Confusion matrix',\n",
        "                          cmap=plt.cm.Blues):\n",
        "    \"\"\"\n",
        "    This function prints and plots the confusion matrix.\n",
        "    Normalization can be applied by setting `normalize=True`.\n",
        "    \"\"\"\n",
        "    if normalize:\n",
        "        cm = cm.astype('float') / cm.sum(axis=1)[:, np.newaxis] # print(\"Normalized confusion matrix\")\n",
        "    else:\n",
        "        pass # print('Confusion matrix, without normalization')\n",
        "\n",
        "    # print(cm)\n",
        "    plt.figure(figsize=(6, 6))\n",
        "    plt.imshow(cm, interpolation='nearest', cmap=cmap)\n",
        "    plt.title(title)\n",
        "    # plt.colorbar()\n",
        "    tick_marks = np.arange(len(classes))\n",
        "    plt.xticks(tick_marks, classes, rotation=45)\n",
        "    plt.yticks(tick_marks, classes)\n",
        "\n",
        "    fmt = '.2f' if normalize else 'd'\n",
        "    thresh = cm.max() / 2.\n",
        "    for i, j in itertools.product(range(cm.shape[0]), range(cm.shape[1])):\n",
        "        plt.text(j, i, format(cm[i, j], fmt),\n",
        "                 horizontalalignment=\"center\",\n",
        "                 color=\"white\" if cm[i, j] > thresh else \"black\")\n",
        "\n",
        "    plt.ylabel('True label')\n",
        "    plt.xlabel('Predicted label')\n",
        "    plt.tight_layout()"
      ]
    },
    {
      "cell_type": "code",
      "execution_count": 48,
      "metadata": {
        "colab": {
          "base_uri": "https://localhost:8080/",
          "height": 607
        },
        "id": "UbUWiaXj1sDs",
        "outputId": "f7502a26-27d2-456d-cef0-c3d71f73b6a8"
      },
      "outputs": [
        {
          "data": {
            "image/png": "[encoded data removed]",
            "text/plain": [
              "<Figure size 600x600 with 1 Axes>"
            ]
          },
          "metadata": {},
          "output_type": "display_data"
        }
      ],
      "source": [
        "from sklearn.metrics import confusion_matrix\n",
        "\n",
        "classes = ['0', '1', '2', '3', '4', '5', '6', '7', '8', '9']\n",
        "\n",
        "matrix = confusion_matrix(y_test, y_pred)\n",
        "plot_confusion_matrix(matrix, classes=classes, normalize=True)"
      ]
    },
    {
      "cell_type": "markdown",
      "metadata": {
        "id": "gW7N6Y3oqrxB"
      },
      "source": [
        "\n",
        "## **<span style='color:#EA7500\t'>Convolutional Neural Network</span>**"
      ]
    },
    {
      "cell_type": "markdown",
      "metadata": {
        "id": "dPF2cQ96yOLF"
      },
      "source": [
        "\n",
        "- ### **Step 1: Load MNIST dataset**"
      ]
    },
    {
      "cell_type": "markdown",
      "metadata": {
        "id": "0wQHQ_cG0K6o"
      },
      "source": [
        "The reason why we don't use the same dataset as above is that the shape ofthat matrix is (1437, 64) which is not fit to this model. Although this dataset still can be used if do some modification, we choose another dataset which is more easier for both using and understanding."
      ]
    },
    {
      "cell_type": "code",
      "execution_count": 30,
      "metadata": {
        "id": "O95mMVjCrc2g"
      },
      "outputs": [],
      "source": [
        "transform = transforms.Compose([\n",
        "    transforms.ToTensor(),\n",
        "    transforms.Normalize((0.5,), (0.5,))\n",
        "])"
      ]
    },
    {
      "cell_type": "code",
      "execution_count": 31,
      "metadata": {
        "colab": {
          "base_uri": "https://localhost:8080/"
        },
        "id": "KEeTSAAFqWJZ",
        "outputId": "d9eac7d0-93cd-41ee-d19b-2ce1869e0c78"
      },
      "outputs": [],
      "source": [
        "train_data = datasets.MNIST(root='data', train=True, download=True, transform=transform)\n",
        "test_data = datasets.MNIST(root='data', train=False, download=True, transform=transform)"
      ]
    },
    {
      "cell_type": "code",
      "execution_count": 32,
      "metadata": {
        "colab": {
          "base_uri": "https://localhost:8080/"
        },
        "id": "Esooeg_IyFh9",
        "outputId": "9afd5edd-99cd-4c67-b366-4f43a722f90a"
      },
      "outputs": [
        {
          "name": "stdout",
          "output_type": "stream",
          "text": [
            "Train_data shape: torch.Size([60000, 28, 28])\n",
            "Train_data image shape torch.Size([1, 28, 28])\n"
          ]
        }
      ],
      "source": [
        "print('Train_data shape:', train_data.data.shape)\n",
        "print('Train_data image shape', train_data[0][0].shape)"
      ]
    },
    {
      "cell_type": "code",
      "execution_count": 33,
      "metadata": {
        "colab": {
          "base_uri": "https://localhost:8080/",
          "height": 423
        },
        "id": "Pt7l0mVQyFh9",
        "outputId": "ac4560d3-8cd7-487f-dd55-56aba62b5b36"
      },
      "outputs": [
        {
          "data": {
            "image/png": "[encoded data removed]",
            "text/plain": [
              "<Figure size 500x500 with 100 Axes>"
            ]
          },
          "metadata": {},
          "output_type": "display_data"
        }
      ],
      "source": [
        "fig, axes = plt.subplots(10, 10, figsize=(5, 5),\n",
        "                         subplot_kw={'xticks':[], 'yticks':[]},\n",
        "                         gridspec_kw=dict(hspace=0.1, wspace=0.1))\n",
        "\n",
        "for i, ax in enumerate(axes.flat):\n",
        "    img, label = train_data[i]\n",
        "    ax.imshow(img.squeeze(), cmap=\"gray\", interpolation='nearest')\n",
        "    ax.text(0.05, 0.05, str(label), transform=ax.transAxes, color='green')"
      ]
    },
    {
      "cell_type": "markdown",
      "metadata": {
        "id": "Y88R4rKjyFh9"
      },
      "source": [
        "- ### **Step 2: Defining the parameters**"
      ]
    },
    {
      "cell_type": "code",
      "execution_count": 34,
      "metadata": {
        "id": "VgytExqNzeu9"
      },
      "outputs": [],
      "source": [
        "test_size = 0.2\n",
        "batch_size = 100\n",
        "num_workers = 0"
      ]
    },
    {
      "cell_type": "markdown",
      "metadata": {
        "id": "jhKXJ7h2yFh9"
      },
      "source": [
        "- ### **Step 3: Preparing data loaders**"
      ]
    },
    {
      "cell_type": "code",
      "execution_count": 35,
      "metadata": {
        "id": "2m4jtmAXzonu"
      },
      "outputs": [],
      "source": [
        "num_train = len(train_data)\n",
        "indices = list(range(num_train))\n",
        "np.random.shuffle(indices)\n",
        "split = int(np.floor(test_size * num_train))\n",
        "train_idx, valid_idx = indices[split:], indices[:split]\n",
        "\n",
        "train_sampler = SubsetRandomSampler(train_idx)\n",
        "valid_sampler = SubsetRandomSampler(valid_idx)\n",
        "\n",
        "train_loader = torch.utils.data.DataLoader(train_data, batch_size=batch_size, sampler=train_sampler, num_workers=num_workers)\n",
        "valid_loader = torch.utils.data.DataLoader(train_data, batch_size=batch_size, sampler=valid_sampler, num_workers=num_workers)\n",
        "test_loader = torch.utils.data.DataLoader(test_data, batch_size=batch_size, num_workers=num_workers)"
      ]
    },
    {
      "cell_type": "markdown",
      "metadata": {
        "id": "GQD7I4qcyFh-"
      },
      "source": [
        "- ### **Step 4: Classes in MNIST dataset (digits 0-9)**"
      ]
    },
    {
      "cell_type": "code",
      "execution_count": 36,
      "metadata": {
        "id": "l2Qba_O471av"
      },
      "outputs": [],
      "source": [
        "classes = [str(i) for i in range(10)]"
      ]
    },
    {
      "cell_type": "markdown",
      "metadata": {
        "id": "JhroHVdiyFh-"
      },
      "source": [
        "- ### **Step 5: Adjusting the convolution and pooling layers**"
      ]
    },
    {
      "cell_type": "code",
      "execution_count": 37,
      "metadata": {
        "id": "jRKp2816yFh-"
      },
      "outputs": [],
      "source": [
        "def Conv_Width(W, F, P, S):\n",
        "    return math.floor(((W - F + 2 * P) / S) + 1)\n",
        "\n",
        "def Pool_Width(W, F, S):\n",
        "    return math.floor((W - F) / S + 1)\n",
        "\n",
        "def Conv_Pool_Width(W, F, P, S, F2, S2, n):\n",
        "    for i in range(n):\n",
        "        W = Pool_Width(Conv_Width(W, F, P, S), F2, S2)\n",
        "    return W\n",
        "\n",
        "Adjusted_width = Conv_Pool_Width(28, 3, 1, 1, 2, 2, 3)"
      ]
    },
    {
      "cell_type": "markdown",
      "metadata": {
        "id": "EyXtmTiQyFh-"
      },
      "source": [
        "- ### **Step 6: Defining the CNN model**"
      ]
    },
    {
      "cell_type": "code",
      "execution_count": 38,
      "metadata": {
        "id": "k2O1u3zSnznq"
      },
      "outputs": [],
      "source": [
        "class CNN(nn.Module):\n",
        "    def __init__(self):\n",
        "        super(CNN, self).__init__()\n",
        "        self.conv1 = nn.Conv2d(1, 10, 3, padding=1)  # Single channel for grayscale MNIST images\n",
        "        self.conv2 = nn.Conv2d(10, 20, 3, padding=1)\n",
        "        self.conv3 = nn.Conv2d(20, 40, 3, padding=1)\n",
        "        self.pool = nn.MaxPool2d(2, 2)\n",
        "        self.fc1 = nn.Linear(40 * Adjusted_width * Adjusted_width, 100)\n",
        "        self.fc2 = nn.Linear(100, 10)\n",
        "        self.dropout = nn.Dropout(0.2)\n",
        "\n",
        "    def forward(self, x):\n",
        "        x = self.pool(F.relu(self.conv1(x)))\n",
        "        x = self.pool(F.relu(self.conv2(x)))\n",
        "        x = self.pool(F.relu(self.conv3(x)))\n",
        "        x = x.view(-1, 40 * Adjusted_width * Adjusted_width)\n",
        "        x = self.dropout(x)\n",
        "        x = F.relu(self.fc1(x))\n",
        "        x = self.dropout(x)\n",
        "        x = self.fc2(x)\n",
        "        return x"
      ]
    },
    {
      "cell_type": "markdown",
      "metadata": {
        "id": "Bi-_FAJtyFh-"
      },
      "source": [
        "- ### **Step 7: Checking if GPU is available**"
      ]
    },
    {
      "cell_type": "code",
      "execution_count": 39,
      "metadata": {
        "colab": {
          "base_uri": "https://localhost:8080/"
        },
        "id": "2l_II-tGdTS9",
        "outputId": "0e9d1cdd-17b6-4775-ba33-1b5bf4b380b1"
      },
      "outputs": [
        {
          "name": "stdout",
          "output_type": "stream",
          "text": [
            "cuda\n"
          ]
        }
      ],
      "source": [
        "device = torch.device(\"cuda\" if torch.cuda.is_available() else \"cpu\")\n",
        "print(device)"
      ]
    },
    {
      "cell_type": "markdown",
      "metadata": {
        "id": "Lhm6xQKtyFh_"
      },
      "source": [
        "- ### **Step 8: Defining loss function and optimizer**"
      ]
    },
    {
      "cell_type": "code",
      "execution_count": 40,
      "metadata": {
        "id": "WY8bXQSQyFh_"
      },
      "outputs": [],
      "source": [
        "model = CNN().to(device)\n",
        "criterion = nn.CrossEntropyLoss()\n",
        "optimizer = optim.Adam(model.parameters(), lr=0.001)"
      ]
    },
    {
      "cell_type": "markdown",
      "metadata": {
        "id": "eCJqOafxyFh_"
      },
      "source": [
        "- ### **Step 9: Training the model**"
      ]
    },
    {
      "cell_type": "code",
      "execution_count": 41,
      "metadata": {
        "colab": {
          "base_uri": "https://localhost:8080/"
        },
        "id": "GibcCcqlyFh_",
        "outputId": "023f76f0-4944-41dc-cae8-494e27279e65"
      },
      "outputs": [
        {
          "name": "stdout",
          "output_type": "stream",
          "text": [
            "Epoch: 1/2,      Training Loss: 0.470\n",
            "Epoch: 2/2,      Training Loss: 0.121\n"
          ]
        }
      ],
      "source": [
        "epochs = 2  # Reduced the number of epochs to 2 for a quick run; you might need to increase this.\n",
        "train_losses, valid_losses = [], []\n",
        "\n",
        "for epoch in range(epochs):\n",
        "    train_loss = 0.0\n",
        "    valid_loss = 0.0\n",
        "    model.train()\n",
        "    for data, target in train_loader:\n",
        "        data, target = data.to(device), target.to(device)\n",
        "        optimizer.zero_grad()\n",
        "        output = model(data)\n",
        "        loss = criterion(output, target)\n",
        "        loss.backward()\n",
        "        optimizer.step()\n",
        "        train_loss += loss.item()*data.size(0)\n",
        "\n",
        "    model.eval()\n",
        "    for data, target in valid_loader:\n",
        "        data, target = data.to(device), target.to(device)\n",
        "        output = model(data)\n",
        "        loss = criterion(output, target)\n",
        "        valid_loss += loss.item()*data.size(0)\n",
        "\n",
        "    train_loss = train_loss/len(train_loader.sampler)\n",
        "    valid_loss = valid_loss/len(valid_loader.sampler)\n",
        "    train_losses.append(train_loss)\n",
        "    valid_losses.append(valid_loss)\n",
        "\n",
        "    print(f'Epoch: {epoch+1}/{epochs},\\\n",
        "      Training Loss: {train_loss:.3f}')"
      ]
    },
    {
      "cell_type": "markdown",
      "metadata": {
        "id": "4GB8aeTKyFh_"
      },
      "source": [
        "- **Plot Loss graph if you need.**"
      ]
    },
    {
      "cell_type": "code",
      "execution_count": 42,
      "metadata": {
        "id": "_OWcAstsyFh_"
      },
      "outputs": [
        {
          "data": {
            "image/png": "[encoded data removed]",
            "text/plain": [
              "<Figure size 640x480 with 1 Axes>"
            ]
          },
          "metadata": {},
          "output_type": "display_data"
        }
      ],
      "source": [
        "import matplotlib.pyplot as plt\n",
        "\n",
        "plt.style.use(\"seaborn-v0_8-whitegrid\")\n",
        "\n",
        "# plt.subplot(2, 1, 1)\n",
        "plt.title(\"Loss\")\n",
        "plt.ylabel(\"Loss\")\n",
        "plt.plot(range(1, len(train_losses)+1), train_losses, label=\"Train Loss\", color='r')\n",
        "plt.plot(range(1, len(valid_losses)+1), valid_losses, label=\"Valid Loss\", color='c')\n",
        "plt.xticks(np.arange(0, epochs, 10.0), )\n",
        "plt.legend()\n",
        "plt.show()"
      ]
    },
    {
      "cell_type": "markdown",
      "metadata": {
        "id": "JeB57Bb-yFiA"
      },
      "source": [
        "- ### **Step 10: Testing the model**"
      ]
    },
    {
      "cell_type": "code",
      "execution_count": 43,
      "metadata": {
        "colab": {
          "base_uri": "https://localhost:8080/"
        },
        "id": "GV7fPrKHyFiA",
        "outputId": "9c34e5a2-5af5-4b17-f363-bd3000b81067"
      },
      "outputs": [
        {
          "name": "stdout",
          "output_type": "stream",
          "text": [
            "Test Loss: 0.060\n",
            "\n",
            "Test Accuracy of 0: 98.88% (969/980)\n",
            "Test Accuracy of 1: 98.77% (1121/1135)\n",
            "Test Accuracy of 2: 99.32% (1025/1032)\n",
            "Test Accuracy of 3: 97.52% (985/1010)\n",
            "Test Accuracy of 4: 98.37% (966/982)\n",
            "Test Accuracy of 5: 98.54% (879/892)\n",
            "Test Accuracy of 6: 98.54% (944/958)\n",
            "Test Accuracy of 7: 96.69% (994/1028)\n",
            "Test Accuracy of 8: 97.74% (952/974)\n",
            "Test Accuracy of 9: 97.62% (985/1009)\n",
            "\n",
            "Test Accuracy (Overall): 98.20% (9820/10000)\n"
          ]
        }
      ],
      "source": [
        "test_loss = 0.0\n",
        "class_correct = list(0. for i in range(10))\n",
        "class_total = list(0. for i in range(10))\n",
        "\n",
        "model.eval()\n",
        "for data, target in test_loader:\n",
        "    data, target = data.to(device), target.to(device)\n",
        "    output = model(data)\n",
        "    loss = criterion(output, target)\n",
        "    test_loss += loss.item()*data.size(0)\n",
        "    _, pred = torch.max(output, 1)\n",
        "    correct_tensor = pred.eq(target.data.view_as(pred))\n",
        "    correct = np.squeeze(correct_tensor.cpu().numpy())\n",
        "    for i in range(batch_size):\n",
        "        label = target.data[i]\n",
        "        class_correct[label] += correct[i].item()\n",
        "        class_total[label] += 1\n",
        "\n",
        "test_loss = test_loss/len(test_loader.dataset)\n",
        "print(f'Test Loss: {test_loss:.3f}\\n')\n",
        "\n",
        "for i in range(10):\n",
        "    if class_total[i] > 0:\n",
        "        print(f'Test Accuracy of {i}: {100 * class_correct[i] / class_total[i]:.2f}% ({int(np.sum(class_correct[i]))}/{int(np.sum(class_total[i]))})')\n",
        "    else:\n",
        "        print(f'Test Accuracy of {i}: N/A (no training examples)')\n",
        "\n",
        "print(f'\\nTest Accuracy (Overall): {100. * np.sum(class_correct) / np.sum(class_total):.2f}% ({int(np.sum(class_correct))}/{int(np.sum(class_total))})')"
      ]
    },
    {
      "cell_type": "markdown",
      "metadata": {
        "id": "DfSFm1HoyFiA"
      },
      "source": [
        "## **<span style='color:#EDA0A9\t'>Exercise</span>**\n",
        "1. Plot the training history of the CNN, including training and validation accuracy as well as loss.\n",
        "2. Print the weights and biases of the first convolutional layer in the trained CNN. What observations can you make?\n",
        "3. Plot the confusion matrix for the test dataset."
      ]
    }
  ],
  "metadata": {
    "accelerator": "GPU",
    "colab": {
      "provenance": []
    },
    "gpuClass": "standard",
    "kernelspec": {
      "display_name": "Python 3 (ipykernel)",
      "language": "python",
      "name": "python3"
    },
    "language_info": {
      "codemirror_mode": {
        "name": "ipython",
        "version": 3
      },
      "file_extension": ".py",
      "mimetype": "text/x-python",
      "name": "python",
      "nbconvert_exporter": "python",
      "pygments_lexer": "ipython3",
      "version": "3.11.5"
    }
  },
  "nbformat": 4,
  "nbformat_minor": 0
}
